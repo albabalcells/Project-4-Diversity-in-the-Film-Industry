{
 "cells": [
  {
   "cell_type": "markdown",
   "metadata": {},
   "source": [
    "# Diversity in the film industry: data exploration - Academy Awards"
   ]
  },
  {
   "cell_type": "markdown",
   "metadata": {},
   "source": [
    "## 1. Importing libraries and dataset"
   ]
  },
  {
   "cell_type": "code",
   "execution_count": 1,
   "metadata": {},
   "outputs": [],
   "source": [
    "import pandas as pd\n",
    "pd.set_option('display.max_columns', None)\n",
    "import numpy as np\n",
    "import seaborn as sns"
   ]
  },
  {
   "cell_type": "code",
   "execution_count": 2,
   "metadata": {},
   "outputs": [],
   "source": [
    "nominees = pd.read_csv('./data/nominees_clean.csv', index_col=0)"
   ]
  },
  {
   "cell_type": "markdown",
   "metadata": {},
   "source": [
    "## 2. First analysis"
   ]
  },
  {
   "cell_type": "markdown",
   "metadata": {},
   "source": [
    "- The dataset includes nominees for movies from 1928-2019, corresponding to ceremonies from 1927-2020.\n",
    "- 'Film' has 304 null values\n",
    "    - 86.8% correspond to special awards, not attributed to any film\n",
    "    - 13.2% correspond to non-special awards, where a movie should be attributed. However, these only represent 0.39% of the total non-special awards. \n",
    "- There are a total 111 prize categories:\n",
    "    - By number of winners, the most common are: honorary award, directing, film editing and actress/actor in a supporting role.\n",
    "    - Out of the 111 categories, 6 are gendered: actress/actor, actress/actor in a supporting role, actress/actor in a supporting role.\n",
    "    - Nominations for gendered categories represent 16,8% of the total nominations. \n",
    "- The 5 people with more nominations are *John Williams* (44), *Alfred Newman* (34), *Edith Head* (22), *Meryl Streep* (21) and *Victor Young* (19)\n",
    "- The most nominated films are *A Star Is Born* (25), *Titanic* (16), *Mutiny on the Bounty* (15), *Moulin Rouge* (15) and *Cleopatra* (14).\n",
    "- The film with more wins are *Titanic* (22), *The Lord of the Rings: The Return of the King* (11), *Ben-Hur* (11), *West Side Story* (10) and *The Last Emperor* (9).\n",
    "- White men are clearly the most nominated, followed by white women\n",
    "\n",
    "\n"
   ]
  },
  {
   "cell_type": "code",
   "execution_count": 3,
   "metadata": {},
   "outputs": [
    {
     "data": {
      "text/html": [
       "<div>\n",
       "<style scoped>\n",
       "    .dataframe tbody tr th:only-of-type {\n",
       "        vertical-align: middle;\n",
       "    }\n",
       "\n",
       "    .dataframe tbody tr th {\n",
       "        vertical-align: top;\n",
       "    }\n",
       "\n",
       "    .dataframe thead th {\n",
       "        text-align: right;\n",
       "    }\n",
       "</style>\n",
       "<table border=\"1\" class=\"dataframe\">\n",
       "  <thead>\n",
       "    <tr style=\"text-align: right;\">\n",
       "      <th></th>\n",
       "      <th>year_film</th>\n",
       "      <th>year_ceremony</th>\n",
       "      <th>ceremony</th>\n",
       "      <th>category</th>\n",
       "      <th>name</th>\n",
       "      <th>film</th>\n",
       "      <th>winner</th>\n",
       "      <th>female</th>\n",
       "      <th>black</th>\n",
       "      <th>asian</th>\n",
       "      <th>latin_american</th>\n",
       "      <th>non_white</th>\n",
       "      <th>gendered_cat</th>\n",
       "    </tr>\n",
       "  </thead>\n",
       "  <tbody>\n",
       "    <tr>\n",
       "      <th>0</th>\n",
       "      <td>1927</td>\n",
       "      <td>1928</td>\n",
       "      <td>1</td>\n",
       "      <td>ACTOR</td>\n",
       "      <td>Richard Barthelmess</td>\n",
       "      <td>The Noose</td>\n",
       "      <td>False</td>\n",
       "      <td>False</td>\n",
       "      <td>False</td>\n",
       "      <td>False</td>\n",
       "      <td>False</td>\n",
       "      <td>False</td>\n",
       "      <td>True</td>\n",
       "    </tr>\n",
       "    <tr>\n",
       "      <th>1</th>\n",
       "      <td>1927</td>\n",
       "      <td>1928</td>\n",
       "      <td>1</td>\n",
       "      <td>ACTOR</td>\n",
       "      <td>Emil Jannings</td>\n",
       "      <td>The Last Command</td>\n",
       "      <td>True</td>\n",
       "      <td>False</td>\n",
       "      <td>False</td>\n",
       "      <td>False</td>\n",
       "      <td>False</td>\n",
       "      <td>False</td>\n",
       "      <td>True</td>\n",
       "    </tr>\n",
       "    <tr>\n",
       "      <th>2</th>\n",
       "      <td>1927</td>\n",
       "      <td>1928</td>\n",
       "      <td>1</td>\n",
       "      <td>ACTRESS</td>\n",
       "      <td>Louise Dresser</td>\n",
       "      <td>A Ship Comes In</td>\n",
       "      <td>False</td>\n",
       "      <td>True</td>\n",
       "      <td>False</td>\n",
       "      <td>False</td>\n",
       "      <td>False</td>\n",
       "      <td>False</td>\n",
       "      <td>True</td>\n",
       "    </tr>\n",
       "    <tr>\n",
       "      <th>3</th>\n",
       "      <td>1927</td>\n",
       "      <td>1928</td>\n",
       "      <td>1</td>\n",
       "      <td>ACTRESS</td>\n",
       "      <td>Janet Gaynor</td>\n",
       "      <td>7th Heaven</td>\n",
       "      <td>True</td>\n",
       "      <td>True</td>\n",
       "      <td>False</td>\n",
       "      <td>False</td>\n",
       "      <td>False</td>\n",
       "      <td>False</td>\n",
       "      <td>True</td>\n",
       "    </tr>\n",
       "    <tr>\n",
       "      <th>4</th>\n",
       "      <td>1927</td>\n",
       "      <td>1928</td>\n",
       "      <td>1</td>\n",
       "      <td>ACTRESS</td>\n",
       "      <td>Gloria Swanson</td>\n",
       "      <td>Sadie Thompson</td>\n",
       "      <td>False</td>\n",
       "      <td>True</td>\n",
       "      <td>False</td>\n",
       "      <td>False</td>\n",
       "      <td>False</td>\n",
       "      <td>False</td>\n",
       "      <td>True</td>\n",
       "    </tr>\n",
       "  </tbody>\n",
       "</table>\n",
       "</div>"
      ],
      "text/plain": [
       "   year_film  year_ceremony  ceremony category                 name  \\\n",
       "0       1927           1928         1    ACTOR  Richard Barthelmess   \n",
       "1       1927           1928         1    ACTOR        Emil Jannings   \n",
       "2       1927           1928         1  ACTRESS       Louise Dresser   \n",
       "3       1927           1928         1  ACTRESS         Janet Gaynor   \n",
       "4       1927           1928         1  ACTRESS       Gloria Swanson   \n",
       "\n",
       "               film  winner  female  black  asian  latin_american  non_white  \\\n",
       "0         The Noose   False   False  False  False           False      False   \n",
       "1  The Last Command    True   False  False  False           False      False   \n",
       "2   A Ship Comes In   False    True  False  False           False      False   \n",
       "3        7th Heaven    True    True  False  False           False      False   \n",
       "4    Sadie Thompson   False    True  False  False           False      False   \n",
       "\n",
       "   gendered_cat  \n",
       "0          True  \n",
       "1          True  \n",
       "2          True  \n",
       "3          True  \n",
       "4          True  "
      ]
     },
     "execution_count": 3,
     "metadata": {},
     "output_type": "execute_result"
    }
   ],
   "source": [
    "nominees.head()"
   ]
  },
  {
   "cell_type": "code",
   "execution_count": 4,
   "metadata": {},
   "outputs": [
    {
     "name": "stdout",
     "output_type": "stream",
     "text": [
      "Null values in film variable: 304\n",
      "\n",
      "<class 'pandas.core.frame.DataFrame'>\n",
      "Int64Index: 10395 entries, 0 to 10394\n",
      "Data columns (total 13 columns):\n",
      " #   Column          Non-Null Count  Dtype \n",
      "---  ------          --------------  ----- \n",
      " 0   year_film       10395 non-null  int64 \n",
      " 1   year_ceremony   10395 non-null  int64 \n",
      " 2   ceremony        10395 non-null  int64 \n",
      " 3   category        10395 non-null  object\n",
      " 4   name            10395 non-null  object\n",
      " 5   film            10091 non-null  object\n",
      " 6   winner          10395 non-null  bool  \n",
      " 7   female          10395 non-null  bool  \n",
      " 8   black           10395 non-null  bool  \n",
      " 9   asian           10395 non-null  bool  \n",
      " 10  latin_american  10395 non-null  bool  \n",
      " 11  non_white       10395 non-null  bool  \n",
      " 12  gendered_cat    10395 non-null  bool  \n",
      "dtypes: bool(7), int64(3), object(3)\n",
      "memory usage: 639.5+ KB\n",
      "None\n"
     ]
    }
   ],
   "source": [
    "print(f'Null values in film variable: {nominees.film.isna().sum()}\\n')\n",
    "print(nominees.info())"
   ]
  },
  {
   "cell_type": "code",
   "execution_count": 5,
   "metadata": {},
   "outputs": [
    {
     "name": "stdout",
     "output_type": "stream",
     "text": [
      " Percentage of special awards: 86.8421%\n",
      " Percentage of non-special awards with null values in 'film': 0.3948%\n",
      "\n",
      "HONORARY AWARD                          124\n",
      "SPECIAL AWARD                            56\n",
      "IRVING G. THALBERG MEMORIAL AWARD        45\n",
      "JEAN HERSHOLT HUMANITARIAN AWARD         39\n",
      "ASSISTANT DIRECTOR                       18\n",
      "SOUND RECORDING                           8\n",
      "HONORARY FOREIGN LANGUAGE FILM AWARD      5\n",
      "SPECIAL ACHIEVEMENT AWARD                 3\n",
      "SPECIAL FOREIGN LANGUAGE FILM AWARD       2\n",
      "WRITING (Title Writing)                   2\n",
      "ENGINEERING EFFECTS                       2\n",
      "Name: category, dtype: int64\n",
      "\n",
      "\n",
      "HONORARY AWARD                          0.407895\n",
      "SPECIAL AWARD                           0.184211\n",
      "IRVING G. THALBERG MEMORIAL AWARD       0.148026\n",
      "JEAN HERSHOLT HUMANITARIAN AWARD        0.128289\n",
      "ASSISTANT DIRECTOR                      0.059211\n",
      "SOUND RECORDING                         0.026316\n",
      "HONORARY FOREIGN LANGUAGE FILM AWARD    0.016447\n",
      "SPECIAL ACHIEVEMENT AWARD               0.009868\n",
      "SPECIAL FOREIGN LANGUAGE FILM AWARD     0.006579\n",
      "WRITING (Title Writing)                 0.006579\n",
      "ENGINEERING EFFECTS                     0.006579\n",
      "Name: category, dtype: float64\n"
     ]
    }
   ],
   "source": [
    "# finding for which categories we don't have value counts, in absolute value and in percentage\n",
    "print(f' Percentage of special awards: {(0.407895+0.184211+0.148026+0.128289)*100}%')\n",
    "print(f\" Percentage of non-special awards with null values in 'film': {round((18+8+5+3+2+2+2)/(len(nominees)-(124+56+45+39))*100, 4)}%\\n\")\n",
    "print(nominees.loc[nominees.film.isna()].category.value_counts())\n",
    "print('\\n')\n",
    "print(nominees.loc[nominees.film.isna()].category.value_counts(normalize=True))"
   ]
  },
  {
   "cell_type": "code",
   "execution_count": 6,
   "metadata": {
    "scrolled": true
   },
   "outputs": [
    {
     "data": {
      "text/html": [
       "<div>\n",
       "<style scoped>\n",
       "    .dataframe tbody tr th:only-of-type {\n",
       "        vertical-align: middle;\n",
       "    }\n",
       "\n",
       "    .dataframe tbody tr th {\n",
       "        vertical-align: top;\n",
       "    }\n",
       "\n",
       "    .dataframe thead th {\n",
       "        text-align: right;\n",
       "    }\n",
       "</style>\n",
       "<table border=\"1\" class=\"dataframe\">\n",
       "  <thead>\n",
       "    <tr style=\"text-align: right;\">\n",
       "      <th></th>\n",
       "      <th>year_film</th>\n",
       "      <th>year_ceremony</th>\n",
       "      <th>ceremony</th>\n",
       "    </tr>\n",
       "  </thead>\n",
       "  <tbody>\n",
       "    <tr>\n",
       "      <th>count</th>\n",
       "      <td>10395.000000</td>\n",
       "      <td>10395.000000</td>\n",
       "      <td>10395.000000</td>\n",
       "    </tr>\n",
       "    <tr>\n",
       "      <th>mean</th>\n",
       "      <td>1974.474555</td>\n",
       "      <td>1975.474555</td>\n",
       "      <td>47.500144</td>\n",
       "    </tr>\n",
       "    <tr>\n",
       "      <th>std</th>\n",
       "      <td>26.145642</td>\n",
       "      <td>26.145642</td>\n",
       "      <td>26.102352</td>\n",
       "    </tr>\n",
       "    <tr>\n",
       "      <th>min</th>\n",
       "      <td>1927.000000</td>\n",
       "      <td>1928.000000</td>\n",
       "      <td>1.000000</td>\n",
       "    </tr>\n",
       "    <tr>\n",
       "      <th>25%</th>\n",
       "      <td>1951.000000</td>\n",
       "      <td>1952.000000</td>\n",
       "      <td>24.000000</td>\n",
       "    </tr>\n",
       "    <tr>\n",
       "      <th>50%</th>\n",
       "      <td>1974.000000</td>\n",
       "      <td>1975.000000</td>\n",
       "      <td>47.000000</td>\n",
       "    </tr>\n",
       "    <tr>\n",
       "      <th>75%</th>\n",
       "      <td>1998.000000</td>\n",
       "      <td>1999.000000</td>\n",
       "      <td>71.000000</td>\n",
       "    </tr>\n",
       "    <tr>\n",
       "      <th>max</th>\n",
       "      <td>2019.000000</td>\n",
       "      <td>2020.000000</td>\n",
       "      <td>92.000000</td>\n",
       "    </tr>\n",
       "  </tbody>\n",
       "</table>\n",
       "</div>"
      ],
      "text/plain": [
       "          year_film  year_ceremony      ceremony\n",
       "count  10395.000000   10395.000000  10395.000000\n",
       "mean    1974.474555    1975.474555     47.500144\n",
       "std       26.145642      26.145642     26.102352\n",
       "min     1927.000000    1928.000000      1.000000\n",
       "25%     1951.000000    1952.000000     24.000000\n",
       "50%     1974.000000    1975.000000     47.000000\n",
       "75%     1998.000000    1999.000000     71.000000\n",
       "max     2019.000000    2020.000000     92.000000"
      ]
     },
     "execution_count": 6,
     "metadata": {},
     "output_type": "execute_result"
    }
   ],
   "source": [
    "nominees.describe()"
   ]
  },
  {
   "cell_type": "code",
   "execution_count": 7,
   "metadata": {},
   "outputs": [
    {
     "data": {
      "text/plain": [
       "10395"
      ]
     },
     "execution_count": 7,
     "metadata": {},
     "output_type": "execute_result"
    }
   ],
   "source": [
    "len(nominees) # number of nominees"
   ]
  },
  {
   "cell_type": "code",
   "execution_count": 8,
   "metadata": {},
   "outputs": [
    {
     "data": {
      "text/plain": [
       "2357"
      ]
     },
     "execution_count": 8,
     "metadata": {},
     "output_type": "execute_result"
    }
   ],
   "source": [
    "len(nominees.loc[nominees.winner==True]) # number of winners"
   ]
  },
  {
   "cell_type": "code",
   "execution_count": 9,
   "metadata": {},
   "outputs": [
    {
     "name": "stdout",
     "output_type": "stream",
     "text": [
      "Number of unique \"categories\": 111\n",
      "\n",
      "Prizes given for each category:\n",
      "\n",
      "HONORARY AWARD                  124\n",
      "DIRECTING                        91\n",
      "FILM EDITING                     86\n",
      "ACTOR IN A SUPPORTING ROLE       84\n",
      "ACTRESS IN A SUPPORTING ROLE     84\n",
      "DOCUMENTARY (Short Subject)      78\n",
      "DOCUMENTARY (Feature)            77\n",
      "CINEMATOGRAPHY                   66\n",
      "FOREIGN LANGUAGE FILM            63\n",
      "ART DIRECTION                    59\n",
      "BEST PICTURE                     58\n",
      "SPECIAL AWARD                    56\n",
      "COSTUME DESIGN                   55\n",
      "ACTRESS                          49\n",
      "ACTOR                            49\n",
      "SHORT FILM (Animated)            46\n",
      "SHORT FILM (Live Action)         46\n",
      "SOUND                            45\n",
      "MUSIC (Original Score)           45\n",
      "MUSIC (Original Song)            45\n",
      "Name: category, dtype: int64\n"
     ]
    }
   ],
   "source": [
    "# number of categories and categories with more prizes\n",
    "print(f'Number of unique \"categories\": {len(nominees.category.unique())}\\n')\n",
    "print('Prizes given for each category:\\n')\n",
    "print(nominees.loc[nominees.winner==True].category.value_counts().head(20))"
   ]
  },
  {
   "cell_type": "code",
   "execution_count": 10,
   "metadata": {},
   "outputs": [
    {
     "data": {
      "text/plain": [
       "False    0.831842\n",
       "True     0.168158\n",
       "Name: gendered_cat, dtype: float64"
      ]
     },
     "execution_count": 10,
     "metadata": {},
     "output_type": "execute_result"
    }
   ],
   "source": [
    "# percentage of gendered vs non_gendered categories\n",
    "nominees.gendered_cat.value_counts(normalize=True)"
   ]
  },
  {
   "cell_type": "code",
   "execution_count": 11,
   "metadata": {},
   "outputs": [
    {
     "data": {
      "text/plain": [
       "Metro-Goldwyn-Mayer              64\n",
       "Walt Disney, Producer            59\n",
       "John Williams                    44\n",
       "Warner Bros.                     43\n",
       "France                           37\n",
       "Alfred Newman                    34\n",
       "Italy                            27\n",
       "Paramount                        25\n",
       "Gordon Hollingshead, Producer    22\n",
       "Edith Head                       22\n",
       "RKO Radio                        22\n",
       "Meryl Streep                     21\n",
       "Spain                            20\n",
       "20th Century-Fox                 20\n",
       "Victor Young                     19\n",
       "Woody Allen                      18\n",
       "Leon Shamroy                     17\n",
       "Max Steiner                      16\n",
       "Pete Smith, Producer             16\n",
       "Jerry Goldsmith                  16\n",
       "Name: name, dtype: int64"
      ]
     },
     "execution_count": 11,
     "metadata": {},
     "output_type": "execute_result"
    }
   ],
   "source": [
    "# top nominees by name\n",
    "nominees.name.value_counts().head(20)"
   ]
  },
  {
   "cell_type": "code",
   "execution_count": 12,
   "metadata": {},
   "outputs": [
    {
     "data": {
      "text/plain": [
       "A Star Is Born          25\n",
       "Titanic                 16\n",
       "Mutiny on the Bounty    15\n",
       "Moulin Rouge            15\n",
       "Little Women            14\n",
       "Name: film, dtype: int64"
      ]
     },
     "execution_count": 12,
     "metadata": {},
     "output_type": "execute_result"
    }
   ],
   "source": [
    "# most nominated films\n",
    "nominees.film.value_counts().head()"
   ]
  },
  {
   "cell_type": "code",
   "execution_count": 13,
   "metadata": {},
   "outputs": [
    {
     "data": {
      "text/plain": [
       "Titanic                                          12\n",
       "Ben-Hur                                          11\n",
       "The Lord of the Rings: The Return of the King    11\n",
       "West Side Story                                  10\n",
       "Gigi                                              9\n",
       "Name: film, dtype: int64"
      ]
     },
     "execution_count": 13,
     "metadata": {},
     "output_type": "execute_result"
    }
   ],
   "source": [
    "# most winning films\n",
    "nominees.loc[nominees.winner==True].film.value_counts().head()"
   ]
  },
  {
   "cell_type": "code",
   "execution_count": 14,
   "metadata": {},
   "outputs": [
    {
     "data": {
      "text/html": [
       "<div>\n",
       "<style scoped>\n",
       "    .dataframe tbody tr th:only-of-type {\n",
       "        vertical-align: middle;\n",
       "    }\n",
       "\n",
       "    .dataframe tbody tr th {\n",
       "        vertical-align: top;\n",
       "    }\n",
       "\n",
       "    .dataframe thead th {\n",
       "        text-align: right;\n",
       "    }\n",
       "</style>\n",
       "<table border=\"1\" class=\"dataframe\">\n",
       "  <thead>\n",
       "    <tr style=\"text-align: right;\">\n",
       "      <th></th>\n",
       "      <th>female</th>\n",
       "      <th>black</th>\n",
       "      <th>asian</th>\n",
       "      <th>latin_american</th>\n",
       "      <th>non_white</th>\n",
       "    </tr>\n",
       "  </thead>\n",
       "  <tbody>\n",
       "    <tr>\n",
       "      <th>False</th>\n",
       "      <td>8106</td>\n",
       "      <td>10208</td>\n",
       "      <td>10261</td>\n",
       "      <td>10257</td>\n",
       "      <td>9943</td>\n",
       "    </tr>\n",
       "    <tr>\n",
       "      <th>True</th>\n",
       "      <td>2289</td>\n",
       "      <td>187</td>\n",
       "      <td>134</td>\n",
       "      <td>138</td>\n",
       "      <td>452</td>\n",
       "    </tr>\n",
       "  </tbody>\n",
       "</table>\n",
       "</div>"
      ],
      "text/plain": [
       "       female  black  asian  latin_american  non_white\n",
       "False    8106  10208  10261           10257       9943\n",
       "True     2289    187    134             138        452"
      ]
     },
     "execution_count": 14,
     "metadata": {},
     "output_type": "execute_result"
    }
   ],
   "source": [
    "# nominees by demographics\n",
    "nominees[['female', 'black', 'asian', 'latin_american', 'non_white']].apply(pd.Series.value_counts)"
   ]
  },
  {
   "cell_type": "code",
   "execution_count": 15,
   "metadata": {},
   "outputs": [
    {
     "data": {
      "text/html": [
       "<div>\n",
       "<style scoped>\n",
       "    .dataframe tbody tr th:only-of-type {\n",
       "        vertical-align: middle;\n",
       "    }\n",
       "\n",
       "    .dataframe tbody tr th {\n",
       "        vertical-align: top;\n",
       "    }\n",
       "\n",
       "    .dataframe thead th {\n",
       "        text-align: right;\n",
       "    }\n",
       "</style>\n",
       "<table border=\"1\" class=\"dataframe\">\n",
       "  <thead>\n",
       "    <tr style=\"text-align: right;\">\n",
       "      <th></th>\n",
       "      <th>black</th>\n",
       "      <th>asian</th>\n",
       "      <th>latin_american</th>\n",
       "      <th>non_white</th>\n",
       "    </tr>\n",
       "    <tr>\n",
       "      <th>female</th>\n",
       "      <th></th>\n",
       "      <th></th>\n",
       "      <th></th>\n",
       "      <th></th>\n",
       "    </tr>\n",
       "  </thead>\n",
       "  <tbody>\n",
       "    <tr>\n",
       "      <th>False</th>\n",
       "      <td>113.0</td>\n",
       "      <td>89.0</td>\n",
       "      <td>104.0</td>\n",
       "      <td>303.0</td>\n",
       "    </tr>\n",
       "    <tr>\n",
       "      <th>True</th>\n",
       "      <td>74.0</td>\n",
       "      <td>45.0</td>\n",
       "      <td>34.0</td>\n",
       "      <td>149.0</td>\n",
       "    </tr>\n",
       "  </tbody>\n",
       "</table>\n",
       "</div>"
      ],
      "text/plain": [
       "        black  asian  latin_american  non_white\n",
       "female                                         \n",
       "False   113.0   89.0           104.0      303.0\n",
       "True     74.0   45.0            34.0      149.0"
      ]
     },
     "execution_count": 15,
     "metadata": {},
     "output_type": "execute_result"
    }
   ],
   "source": [
    "# nominees by race and gender\n",
    "nominees.groupby('female')[['black', 'asian', 'latin_american', 'non_white']].sum()"
   ]
  },
  {
   "cell_type": "markdown",
   "metadata": {},
   "source": [
    "## 3. Focus on diversity in the Oscars"
   ]
  },
  {
   "cell_type": "markdown",
   "metadata": {},
   "source": [
    "### 3.1. Creating dataframe to store demographics by year "
   ]
  },
  {
   "cell_type": "code",
   "execution_count": 16,
   "metadata": {},
   "outputs": [
    {
     "data": {
      "text/plain": [
       "Index(['year_film', 'year_ceremony', 'ceremony', 'category', 'name', 'film',\n",
       "       'winner', 'female', 'black', 'asian', 'latin_american', 'non_white',\n",
       "       'gendered_cat', 'white'],\n",
       "      dtype='object')"
      ]
     },
     "execution_count": 16,
     "metadata": {},
     "output_type": "execute_result"
    }
   ],
   "source": [
    "# add column 'white' to 'nominees' df to make it easier to compare after\n",
    "def white(row):\n",
    "    if row['black'] == True or row['asian'] == True or row['latin_american'] == True:\n",
    "        return False\n",
    "    else:\n",
    "        return True\n",
    "\n",
    "nominees['white'] = nominees.apply(lambda row: white(row), axis=1)\n",
    "nominees.columns"
   ]
  },
  {
   "cell_type": "markdown",
   "metadata": {},
   "source": [
    "#### Nominees by demographics by year (absolute value)"
   ]
  },
  {
   "cell_type": "code",
   "execution_count": 17,
   "metadata": {
    "scrolled": true
   },
   "outputs": [],
   "source": [
    "# creating new df to store the demographics of nominees by year\n",
    "nominees_per_year = nominees.groupby('year_ceremony')[['female', 'black', 'asian', 'latin_american', 'non_white', 'white']].sum()\n",
    "\n",
    "# adding 'total' variable to store total number of nominees\n",
    "nominees_per_year['total'] = nominees_per_year['non_white'] + nominees_per_year['white']\n",
    "\n",
    "# adding 'male' variable\n",
    "nominees_per_year['male'] = nominees_per_year['total'] - nominees_per_year['female']\n",
    "\n",
    "# renaming 'total' column\n",
    "nominees_per_year.rename(columns={'total': 'total_nominees'}, inplace=True)"
   ]
  },
  {
   "cell_type": "code",
   "execution_count": 18,
   "metadata": {},
   "outputs": [
    {
     "data": {
      "text/html": [
       "<div>\n",
       "<style scoped>\n",
       "    .dataframe tbody tr th:only-of-type {\n",
       "        vertical-align: middle;\n",
       "    }\n",
       "\n",
       "    .dataframe tbody tr th {\n",
       "        vertical-align: top;\n",
       "    }\n",
       "\n",
       "    .dataframe thead th {\n",
       "        text-align: right;\n",
       "    }\n",
       "</style>\n",
       "<table border=\"1\" class=\"dataframe\">\n",
       "  <thead>\n",
       "    <tr style=\"text-align: right;\">\n",
       "      <th></th>\n",
       "      <th>female</th>\n",
       "      <th>black</th>\n",
       "      <th>asian</th>\n",
       "      <th>latin_american</th>\n",
       "      <th>non_white</th>\n",
       "      <th>white</th>\n",
       "      <th>total_nominees</th>\n",
       "      <th>male</th>\n",
       "    </tr>\n",
       "    <tr>\n",
       "      <th>year_ceremony</th>\n",
       "      <th></th>\n",
       "      <th></th>\n",
       "      <th></th>\n",
       "      <th></th>\n",
       "      <th></th>\n",
       "      <th></th>\n",
       "      <th></th>\n",
       "      <th></th>\n",
       "    </tr>\n",
       "  </thead>\n",
       "  <tbody>\n",
       "    <tr>\n",
       "      <th>1928</th>\n",
       "      <td>3.0</td>\n",
       "      <td>0.0</td>\n",
       "      <td>0.0</td>\n",
       "      <td>0.0</td>\n",
       "      <td>0.0</td>\n",
       "      <td>35.0</td>\n",
       "      <td>35.0</td>\n",
       "      <td>32.0</td>\n",
       "    </tr>\n",
       "    <tr>\n",
       "      <th>1929</th>\n",
       "      <td>8.0</td>\n",
       "      <td>0.0</td>\n",
       "      <td>0.0</td>\n",
       "      <td>0.0</td>\n",
       "      <td>0.0</td>\n",
       "      <td>38.0</td>\n",
       "      <td>38.0</td>\n",
       "      <td>30.0</td>\n",
       "    </tr>\n",
       "    <tr>\n",
       "      <th>1930</th>\n",
       "      <td>8.0</td>\n",
       "      <td>0.0</td>\n",
       "      <td>0.0</td>\n",
       "      <td>0.0</td>\n",
       "      <td>0.0</td>\n",
       "      <td>42.0</td>\n",
       "      <td>42.0</td>\n",
       "      <td>34.0</td>\n",
       "    </tr>\n",
       "    <tr>\n",
       "      <th>1931</th>\n",
       "      <td>5.0</td>\n",
       "      <td>0.0</td>\n",
       "      <td>0.0</td>\n",
       "      <td>1.0</td>\n",
       "      <td>1.0</td>\n",
       "      <td>43.0</td>\n",
       "      <td>44.0</td>\n",
       "      <td>39.0</td>\n",
       "    </tr>\n",
       "    <tr>\n",
       "      <th>1932</th>\n",
       "      <td>6.0</td>\n",
       "      <td>0.0</td>\n",
       "      <td>0.0</td>\n",
       "      <td>0.0</td>\n",
       "      <td>0.0</td>\n",
       "      <td>45.0</td>\n",
       "      <td>45.0</td>\n",
       "      <td>39.0</td>\n",
       "    </tr>\n",
       "  </tbody>\n",
       "</table>\n",
       "</div>"
      ],
      "text/plain": [
       "               female  black  asian  latin_american  non_white  white  \\\n",
       "year_ceremony                                                           \n",
       "1928              3.0    0.0    0.0             0.0        0.0   35.0   \n",
       "1929              8.0    0.0    0.0             0.0        0.0   38.0   \n",
       "1930              8.0    0.0    0.0             0.0        0.0   42.0   \n",
       "1931              5.0    0.0    0.0             1.0        1.0   43.0   \n",
       "1932              6.0    0.0    0.0             0.0        0.0   45.0   \n",
       "\n",
       "               total_nominees  male  \n",
       "year_ceremony                        \n",
       "1928                     35.0  32.0  \n",
       "1929                     38.0  30.0  \n",
       "1930                     42.0  34.0  \n",
       "1931                     44.0  39.0  \n",
       "1932                     45.0  39.0  "
      ]
     },
     "execution_count": 18,
     "metadata": {},
     "output_type": "execute_result"
    }
   ],
   "source": [
    "nominees_per_year.head()"
   ]
  },
  {
   "cell_type": "markdown",
   "metadata": {},
   "source": [
    "#### Nominees by demographics by year (percentage)"
   ]
  },
  {
   "cell_type": "code",
   "execution_count": 19,
   "metadata": {},
   "outputs": [],
   "source": [
    "# getting percentage of each demographic by year\n",
    "nominees_perc = nominees_per_year.div(nominees_per_year.total_nominees/100, axis=0)\n",
    "\n",
    "# rounding to 2 decimal points\n",
    "nominees_perc.round(2)\n",
    "\n",
    "# exporting dataset\n",
    "nominees_perc.to_csv('./data/nominees_per_year_perc.csv')"
   ]
  },
  {
   "cell_type": "markdown",
   "metadata": {},
   "source": [
    "#### Winners by demographics by year (absolute value)"
   ]
  },
  {
   "cell_type": "code",
   "execution_count": 20,
   "metadata": {},
   "outputs": [],
   "source": [
    "winners_per_year = nominees[nominees.winner==True].groupby('year_ceremony').sum()"
   ]
  },
  {
   "cell_type": "code",
   "execution_count": 21,
   "metadata": {},
   "outputs": [],
   "source": [
    "# creating datafreame\n",
    "winners_per_year = nominees[nominees.winner==True].groupby('year_ceremony').sum()\n",
    "\n",
    "#droping unwanted categories\n",
    "winners_per_year.drop('year_film', axis=1, inplace=True)\n",
    "winners_per_year.drop('ceremony', axis=1, inplace=True)\n",
    "winners_per_year.drop('gendered_cat', axis=1, inplace=True)\n",
    "\n",
    "# renaming columns\n",
    "winners_per_year.rename(columns={'winner': 'total_winners',\n",
    "                                'female': 'female_winners',\n",
    "                                'black': 'black_winners',\n",
    "                                'asian': 'asian_winners',\n",
    "                                'latin_american': 'latin_american_winners',\n",
    "                                'non_white': 'non_white_winners',\n",
    "                                'white': 'white_winners'}, \n",
    "                                inplace=True)\n",
    "\n",
    "# adding 'male_winners' column\n",
    "winners_per_year['male_winners'] = winners_per_year['total_winners'] - winners_per_year['female_winners']"
   ]
  },
  {
   "cell_type": "code",
   "execution_count": 22,
   "metadata": {},
   "outputs": [],
   "source": [
    "# getting percentage of each demographic by year\n",
    "winners_perc = winners_per_year.div(winners_per_year.total_winners/100, axis=0)\n",
    "\n",
    "# rounding to 2 decimal points\n",
    "winners_perc.round(2)\n",
    "\n",
    "# exporting dataset\n",
    "winners_perc.to_csv('./data/winners_per_year_perc.csv')"
   ]
  },
  {
   "cell_type": "markdown",
   "metadata": {},
   "source": [
    "#### Nominees and winners by demographics by year (absolute value)"
   ]
  },
  {
   "cell_type": "code",
   "execution_count": 23,
   "metadata": {},
   "outputs": [],
   "source": [
    "demographics = pd.merge(nominees_per_year, winners_per_year, how='left', on='year_ceremony')\n",
    "\n",
    "# reordering columns\n",
    "demographics = demographics[['female', 'black', 'asian', 'latin_american', 'non_white', 'white',\n",
    "       'male', 'total_nominees', 'female_winners',\n",
    "       'black_winners', 'asian_winners', 'latin_american_winners',\n",
    "       'non_white_winners', 'white_winners', 'male_winners', 'total_winners']]"
   ]
  },
  {
   "cell_type": "code",
   "execution_count": 24,
   "metadata": {},
   "outputs": [],
   "source": [
    "# exporting dataset\n",
    "demographics.to_csv('./data/demographics.csv')"
   ]
  },
  {
   "cell_type": "markdown",
   "metadata": {},
   "source": [
    "#### Nominees and winners by demographics by year  (% of total nomineess for all)"
   ]
  },
  {
   "cell_type": "code",
   "execution_count": 25,
   "metadata": {},
   "outputs": [],
   "source": [
    "# getting percentage of each demographic by year\n",
    "demographics_perc = demographics.div(demographics.total_nominees/100, axis=0)\n",
    "\n",
    "# rounding to 2 decimal points\n",
    "demographics_perc.round(2)\n",
    "\n",
    "# exporting dataset\n",
    "demographics_perc.to_csv('./data/demographics_percentage.csv')"
   ]
  },
  {
   "cell_type": "markdown",
   "metadata": {},
   "source": [
    "#### Nominees and winners by demographics by year (% of total nomineess for nominees, % of total winners for winners)"
   ]
  },
  {
   "cell_type": "code",
   "execution_count": 26,
   "metadata": {},
   "outputs": [],
   "source": [
    "# getting percentage of each demographic by year\n",
    "demographics_perc_sep = pd.merge(nominees_perc, winners_perc, how='left', on='year_ceremony')\n",
    "\n",
    "# rounding to 2 decimal points\n",
    "demographics_perc_sep.round(2)\n",
    "\n",
    "# exporting dataset\n",
    "demographics_perc_sep.to_csv('./data/demographics_percentage_separated.csv')"
   ]
  },
  {
   "cell_type": "markdown",
   "metadata": {},
   "source": [
    "### 3.2. Analyzing 'demographics' dataset"
   ]
  },
  {
   "cell_type": "markdown",
   "metadata": {},
   "source": [
    "### 3.2.1. Nominees and winners by demographic as % of total nominees\n",
    "- Men receive more nominations than women (78% vs 22%)\n",
    "- White people receive more nominations than black people (95.8% vs 4.2%)\n",
    "- In 13/92 ceremonies, all nominees were white. In 44/92 ceremonies, all winners were white. \n",
    "\n",
    "*People of Color (POC) includes black, asians and latin americans.*"
   ]
  },
  {
   "cell_type": "code",
   "execution_count": 27,
   "metadata": {},
   "outputs": [
    {
     "data": {
      "text/html": [
       "<div>\n",
       "<style scoped>\n",
       "    .dataframe tbody tr th:only-of-type {\n",
       "        vertical-align: middle;\n",
       "    }\n",
       "\n",
       "    .dataframe tbody tr th {\n",
       "        vertical-align: top;\n",
       "    }\n",
       "\n",
       "    .dataframe thead th {\n",
       "        text-align: right;\n",
       "    }\n",
       "</style>\n",
       "<table border=\"1\" class=\"dataframe\">\n",
       "  <thead>\n",
       "    <tr style=\"text-align: right;\">\n",
       "      <th></th>\n",
       "      <th>female</th>\n",
       "      <th>black</th>\n",
       "      <th>asian</th>\n",
       "      <th>latin_american</th>\n",
       "      <th>non_white</th>\n",
       "      <th>white</th>\n",
       "      <th>male</th>\n",
       "      <th>total_nominees</th>\n",
       "      <th>female_winners</th>\n",
       "      <th>black_winners</th>\n",
       "      <th>asian_winners</th>\n",
       "      <th>latin_american_winners</th>\n",
       "      <th>non_white_winners</th>\n",
       "      <th>white_winners</th>\n",
       "      <th>male_winners</th>\n",
       "      <th>total_winners</th>\n",
       "    </tr>\n",
       "    <tr>\n",
       "      <th>year_ceremony</th>\n",
       "      <th></th>\n",
       "      <th></th>\n",
       "      <th></th>\n",
       "      <th></th>\n",
       "      <th></th>\n",
       "      <th></th>\n",
       "      <th></th>\n",
       "      <th></th>\n",
       "      <th></th>\n",
       "      <th></th>\n",
       "      <th></th>\n",
       "      <th></th>\n",
       "      <th></th>\n",
       "      <th></th>\n",
       "      <th></th>\n",
       "      <th></th>\n",
       "    </tr>\n",
       "  </thead>\n",
       "  <tbody>\n",
       "    <tr>\n",
       "      <th>1928</th>\n",
       "      <td>8.571429</td>\n",
       "      <td>0.000000</td>\n",
       "      <td>0.000000</td>\n",
       "      <td>0.000000</td>\n",
       "      <td>0.000000</td>\n",
       "      <td>100.000000</td>\n",
       "      <td>91.428571</td>\n",
       "      <td>100.0</td>\n",
       "      <td>2.857143</td>\n",
       "      <td>0.000000</td>\n",
       "      <td>0.000000</td>\n",
       "      <td>0.000000</td>\n",
       "      <td>0.000000</td>\n",
       "      <td>42.857143</td>\n",
       "      <td>40.000000</td>\n",
       "      <td>42.857143</td>\n",
       "    </tr>\n",
       "    <tr>\n",
       "      <th>1929</th>\n",
       "      <td>21.052632</td>\n",
       "      <td>0.000000</td>\n",
       "      <td>0.000000</td>\n",
       "      <td>0.000000</td>\n",
       "      <td>0.000000</td>\n",
       "      <td>100.000000</td>\n",
       "      <td>78.947368</td>\n",
       "      <td>100.0</td>\n",
       "      <td>2.631579</td>\n",
       "      <td>0.000000</td>\n",
       "      <td>0.000000</td>\n",
       "      <td>0.000000</td>\n",
       "      <td>0.000000</td>\n",
       "      <td>18.421053</td>\n",
       "      <td>15.789474</td>\n",
       "      <td>18.421053</td>\n",
       "    </tr>\n",
       "    <tr>\n",
       "      <th>1930</th>\n",
       "      <td>19.047619</td>\n",
       "      <td>0.000000</td>\n",
       "      <td>0.000000</td>\n",
       "      <td>0.000000</td>\n",
       "      <td>0.000000</td>\n",
       "      <td>100.000000</td>\n",
       "      <td>80.952381</td>\n",
       "      <td>100.0</td>\n",
       "      <td>4.761905</td>\n",
       "      <td>0.000000</td>\n",
       "      <td>0.000000</td>\n",
       "      <td>0.000000</td>\n",
       "      <td>0.000000</td>\n",
       "      <td>19.047619</td>\n",
       "      <td>14.285714</td>\n",
       "      <td>19.047619</td>\n",
       "    </tr>\n",
       "    <tr>\n",
       "      <th>1931</th>\n",
       "      <td>11.363636</td>\n",
       "      <td>0.000000</td>\n",
       "      <td>0.000000</td>\n",
       "      <td>2.272727</td>\n",
       "      <td>2.272727</td>\n",
       "      <td>97.727273</td>\n",
       "      <td>88.636364</td>\n",
       "      <td>100.0</td>\n",
       "      <td>2.272727</td>\n",
       "      <td>0.000000</td>\n",
       "      <td>0.000000</td>\n",
       "      <td>0.000000</td>\n",
       "      <td>0.000000</td>\n",
       "      <td>20.454545</td>\n",
       "      <td>18.181818</td>\n",
       "      <td>20.454545</td>\n",
       "    </tr>\n",
       "    <tr>\n",
       "      <th>1932</th>\n",
       "      <td>13.333333</td>\n",
       "      <td>0.000000</td>\n",
       "      <td>0.000000</td>\n",
       "      <td>0.000000</td>\n",
       "      <td>0.000000</td>\n",
       "      <td>100.000000</td>\n",
       "      <td>86.666667</td>\n",
       "      <td>100.0</td>\n",
       "      <td>4.444444</td>\n",
       "      <td>0.000000</td>\n",
       "      <td>0.000000</td>\n",
       "      <td>0.000000</td>\n",
       "      <td>0.000000</td>\n",
       "      <td>31.111111</td>\n",
       "      <td>26.666667</td>\n",
       "      <td>31.111111</td>\n",
       "    </tr>\n",
       "    <tr>\n",
       "      <th>...</th>\n",
       "      <td>...</td>\n",
       "      <td>...</td>\n",
       "      <td>...</td>\n",
       "      <td>...</td>\n",
       "      <td>...</td>\n",
       "      <td>...</td>\n",
       "      <td>...</td>\n",
       "      <td>...</td>\n",
       "      <td>...</td>\n",
       "      <td>...</td>\n",
       "      <td>...</td>\n",
       "      <td>...</td>\n",
       "      <td>...</td>\n",
       "      <td>...</td>\n",
       "      <td>...</td>\n",
       "      <td>...</td>\n",
       "    </tr>\n",
       "    <tr>\n",
       "      <th>2016</th>\n",
       "      <td>37.096774</td>\n",
       "      <td>1.612903</td>\n",
       "      <td>3.225806</td>\n",
       "      <td>2.419355</td>\n",
       "      <td>7.258065</td>\n",
       "      <td>92.741935</td>\n",
       "      <td>62.903226</td>\n",
       "      <td>100.0</td>\n",
       "      <td>10.483871</td>\n",
       "      <td>0.806452</td>\n",
       "      <td>0.806452</td>\n",
       "      <td>1.612903</td>\n",
       "      <td>3.225806</td>\n",
       "      <td>18.548387</td>\n",
       "      <td>11.290323</td>\n",
       "      <td>21.774194</td>\n",
       "    </tr>\n",
       "    <tr>\n",
       "      <th>2017</th>\n",
       "      <td>34.920635</td>\n",
       "      <td>13.492063</td>\n",
       "      <td>2.380952</td>\n",
       "      <td>1.587302</td>\n",
       "      <td>17.460317</td>\n",
       "      <td>82.539683</td>\n",
       "      <td>65.079365</td>\n",
       "      <td>100.0</td>\n",
       "      <td>7.142857</td>\n",
       "      <td>3.174603</td>\n",
       "      <td>0.000000</td>\n",
       "      <td>0.000000</td>\n",
       "      <td>3.174603</td>\n",
       "      <td>19.047619</td>\n",
       "      <td>15.079365</td>\n",
       "      <td>22.222222</td>\n",
       "    </tr>\n",
       "    <tr>\n",
       "      <th>2018</th>\n",
       "      <td>38.582677</td>\n",
       "      <td>7.874016</td>\n",
       "      <td>3.149606</td>\n",
       "      <td>3.149606</td>\n",
       "      <td>14.173228</td>\n",
       "      <td>85.826772</td>\n",
       "      <td>61.417323</td>\n",
       "      <td>100.0</td>\n",
       "      <td>5.511811</td>\n",
       "      <td>1.574803</td>\n",
       "      <td>0.000000</td>\n",
       "      <td>1.574803</td>\n",
       "      <td>3.149606</td>\n",
       "      <td>19.685039</td>\n",
       "      <td>17.322835</td>\n",
       "      <td>22.834646</td>\n",
       "    </tr>\n",
       "    <tr>\n",
       "      <th>2019</th>\n",
       "      <td>40.800000</td>\n",
       "      <td>9.600000</td>\n",
       "      <td>8.000000</td>\n",
       "      <td>8.000000</td>\n",
       "      <td>24.000000</td>\n",
       "      <td>76.000000</td>\n",
       "      <td>59.200000</td>\n",
       "      <td>100.0</td>\n",
       "      <td>10.400000</td>\n",
       "      <td>4.800000</td>\n",
       "      <td>3.200000</td>\n",
       "      <td>3.200000</td>\n",
       "      <td>10.400000</td>\n",
       "      <td>12.000000</td>\n",
       "      <td>12.000000</td>\n",
       "      <td>22.400000</td>\n",
       "    </tr>\n",
       "    <tr>\n",
       "      <th>2020</th>\n",
       "      <td>43.750000</td>\n",
       "      <td>2.343750</td>\n",
       "      <td>4.687500</td>\n",
       "      <td>3.906250</td>\n",
       "      <td>10.937500</td>\n",
       "      <td>89.062500</td>\n",
       "      <td>56.250000</td>\n",
       "      <td>100.0</td>\n",
       "      <td>8.593750</td>\n",
       "      <td>0.781250</td>\n",
       "      <td>0.781250</td>\n",
       "      <td>0.781250</td>\n",
       "      <td>2.343750</td>\n",
       "      <td>19.531250</td>\n",
       "      <td>13.281250</td>\n",
       "      <td>21.875000</td>\n",
       "    </tr>\n",
       "  </tbody>\n",
       "</table>\n",
       "<p>92 rows × 16 columns</p>\n",
       "</div>"
      ],
      "text/plain": [
       "                  female      black     asian  latin_american  non_white  \\\n",
       "year_ceremony                                                              \n",
       "1928            8.571429   0.000000  0.000000        0.000000   0.000000   \n",
       "1929           21.052632   0.000000  0.000000        0.000000   0.000000   \n",
       "1930           19.047619   0.000000  0.000000        0.000000   0.000000   \n",
       "1931           11.363636   0.000000  0.000000        2.272727   2.272727   \n",
       "1932           13.333333   0.000000  0.000000        0.000000   0.000000   \n",
       "...                  ...        ...       ...             ...        ...   \n",
       "2016           37.096774   1.612903  3.225806        2.419355   7.258065   \n",
       "2017           34.920635  13.492063  2.380952        1.587302  17.460317   \n",
       "2018           38.582677   7.874016  3.149606        3.149606  14.173228   \n",
       "2019           40.800000   9.600000  8.000000        8.000000  24.000000   \n",
       "2020           43.750000   2.343750  4.687500        3.906250  10.937500   \n",
       "\n",
       "                    white       male  total_nominees  female_winners  \\\n",
       "year_ceremony                                                          \n",
       "1928           100.000000  91.428571           100.0        2.857143   \n",
       "1929           100.000000  78.947368           100.0        2.631579   \n",
       "1930           100.000000  80.952381           100.0        4.761905   \n",
       "1931            97.727273  88.636364           100.0        2.272727   \n",
       "1932           100.000000  86.666667           100.0        4.444444   \n",
       "...                   ...        ...             ...             ...   \n",
       "2016            92.741935  62.903226           100.0       10.483871   \n",
       "2017            82.539683  65.079365           100.0        7.142857   \n",
       "2018            85.826772  61.417323           100.0        5.511811   \n",
       "2019            76.000000  59.200000           100.0       10.400000   \n",
       "2020            89.062500  56.250000           100.0        8.593750   \n",
       "\n",
       "               black_winners  asian_winners  latin_american_winners  \\\n",
       "year_ceremony                                                         \n",
       "1928                0.000000       0.000000                0.000000   \n",
       "1929                0.000000       0.000000                0.000000   \n",
       "1930                0.000000       0.000000                0.000000   \n",
       "1931                0.000000       0.000000                0.000000   \n",
       "1932                0.000000       0.000000                0.000000   \n",
       "...                      ...            ...                     ...   \n",
       "2016                0.806452       0.806452                1.612903   \n",
       "2017                3.174603       0.000000                0.000000   \n",
       "2018                1.574803       0.000000                1.574803   \n",
       "2019                4.800000       3.200000                3.200000   \n",
       "2020                0.781250       0.781250                0.781250   \n",
       "\n",
       "               non_white_winners  white_winners  male_winners  total_winners  \n",
       "year_ceremony                                                                 \n",
       "1928                    0.000000      42.857143     40.000000      42.857143  \n",
       "1929                    0.000000      18.421053     15.789474      18.421053  \n",
       "1930                    0.000000      19.047619     14.285714      19.047619  \n",
       "1931                    0.000000      20.454545     18.181818      20.454545  \n",
       "1932                    0.000000      31.111111     26.666667      31.111111  \n",
       "...                          ...            ...           ...            ...  \n",
       "2016                    3.225806      18.548387     11.290323      21.774194  \n",
       "2017                    3.174603      19.047619     15.079365      22.222222  \n",
       "2018                    3.149606      19.685039     17.322835      22.834646  \n",
       "2019                   10.400000      12.000000     12.000000      22.400000  \n",
       "2020                    2.343750      19.531250     13.281250      21.875000  \n",
       "\n",
       "[92 rows x 16 columns]"
      ]
     },
     "execution_count": 27,
     "metadata": {},
     "output_type": "execute_result"
    }
   ],
   "source": [
    "# by year\n",
    "demographics_perc"
   ]
  },
  {
   "cell_type": "code",
   "execution_count": 28,
   "metadata": {
    "scrolled": true
   },
   "outputs": [
    {
     "data": {
      "text/html": [
       "<div>\n",
       "<style scoped>\n",
       "    .dataframe tbody tr th:only-of-type {\n",
       "        vertical-align: middle;\n",
       "    }\n",
       "\n",
       "    .dataframe tbody tr th {\n",
       "        vertical-align: top;\n",
       "    }\n",
       "\n",
       "    .dataframe thead th {\n",
       "        text-align: right;\n",
       "    }\n",
       "</style>\n",
       "<table border=\"1\" class=\"dataframe\">\n",
       "  <thead>\n",
       "    <tr style=\"text-align: right;\">\n",
       "      <th></th>\n",
       "      <th>female</th>\n",
       "      <th>black</th>\n",
       "      <th>asian</th>\n",
       "      <th>latin_american</th>\n",
       "      <th>non_white</th>\n",
       "      <th>white</th>\n",
       "      <th>male</th>\n",
       "      <th>total_nominees</th>\n",
       "      <th>female_winners</th>\n",
       "      <th>black_winners</th>\n",
       "      <th>asian_winners</th>\n",
       "      <th>latin_american_winners</th>\n",
       "      <th>non_white_winners</th>\n",
       "      <th>white_winners</th>\n",
       "      <th>male_winners</th>\n",
       "      <th>total_winners</th>\n",
       "    </tr>\n",
       "  </thead>\n",
       "  <tbody>\n",
       "    <tr>\n",
       "      <th>count</th>\n",
       "      <td>92.000000</td>\n",
       "      <td>92.000000</td>\n",
       "      <td>92.000000</td>\n",
       "      <td>92.000000</td>\n",
       "      <td>92.000000</td>\n",
       "      <td>92.000000</td>\n",
       "      <td>92.000000</td>\n",
       "      <td>9.200000e+01</td>\n",
       "      <td>92.000000</td>\n",
       "      <td>92.000000</td>\n",
       "      <td>92.000000</td>\n",
       "      <td>92.000000</td>\n",
       "      <td>92.000000</td>\n",
       "      <td>92.000000</td>\n",
       "      <td>92.000000</td>\n",
       "      <td>92.000000</td>\n",
       "    </tr>\n",
       "    <tr>\n",
       "      <th>mean</th>\n",
       "      <td>22.000075</td>\n",
       "      <td>1.757551</td>\n",
       "      <td>1.237970</td>\n",
       "      <td>1.301372</td>\n",
       "      <td>4.231477</td>\n",
       "      <td>95.768523</td>\n",
       "      <td>77.999925</td>\n",
       "      <td>1.000000e+02</td>\n",
       "      <td>4.768313</td>\n",
       "      <td>0.432448</td>\n",
       "      <td>0.308252</td>\n",
       "      <td>0.355052</td>\n",
       "      <td>1.067978</td>\n",
       "      <td>22.088159</td>\n",
       "      <td>18.387823</td>\n",
       "      <td>23.156136</td>\n",
       "    </tr>\n",
       "    <tr>\n",
       "      <th>std</th>\n",
       "      <td>8.700429</td>\n",
       "      <td>2.420938</td>\n",
       "      <td>1.552632</td>\n",
       "      <td>1.703993</td>\n",
       "      <td>4.428752</td>\n",
       "      <td>4.428752</td>\n",
       "      <td>8.700429</td>\n",
       "      <td>7.448512e-15</td>\n",
       "      <td>2.313987</td>\n",
       "      <td>0.873019</td>\n",
       "      <td>0.557705</td>\n",
       "      <td>0.687169</td>\n",
       "      <td>1.589890</td>\n",
       "      <td>3.960234</td>\n",
       "      <td>4.120941</td>\n",
       "      <td>3.568432</td>\n",
       "    </tr>\n",
       "    <tr>\n",
       "      <th>min</th>\n",
       "      <td>7.692308</td>\n",
       "      <td>0.000000</td>\n",
       "      <td>0.000000</td>\n",
       "      <td>0.000000</td>\n",
       "      <td>0.000000</td>\n",
       "      <td>76.000000</td>\n",
       "      <td>56.250000</td>\n",
       "      <td>1.000000e+02</td>\n",
       "      <td>1.098901</td>\n",
       "      <td>0.000000</td>\n",
       "      <td>0.000000</td>\n",
       "      <td>0.000000</td>\n",
       "      <td>0.000000</td>\n",
       "      <td>12.000000</td>\n",
       "      <td>11.290323</td>\n",
       "      <td>14.285714</td>\n",
       "    </tr>\n",
       "    <tr>\n",
       "      <th>25%</th>\n",
       "      <td>15.223214</td>\n",
       "      <td>0.000000</td>\n",
       "      <td>0.000000</td>\n",
       "      <td>0.000000</td>\n",
       "      <td>1.181692</td>\n",
       "      <td>94.096500</td>\n",
       "      <td>70.167595</td>\n",
       "      <td>1.000000e+02</td>\n",
       "      <td>2.872559</td>\n",
       "      <td>0.000000</td>\n",
       "      <td>0.000000</td>\n",
       "      <td>0.000000</td>\n",
       "      <td>0.000000</td>\n",
       "      <td>20.120968</td>\n",
       "      <td>15.367290</td>\n",
       "      <td>22.131148</td>\n",
       "    </tr>\n",
       "    <tr>\n",
       "      <th>50%</th>\n",
       "      <td>20.099835</td>\n",
       "      <td>0.896879</td>\n",
       "      <td>0.892928</td>\n",
       "      <td>0.917431</td>\n",
       "      <td>2.945707</td>\n",
       "      <td>97.054293</td>\n",
       "      <td>79.900165</td>\n",
       "      <td>1.000000e+02</td>\n",
       "      <td>4.454365</td>\n",
       "      <td>0.000000</td>\n",
       "      <td>0.000000</td>\n",
       "      <td>0.000000</td>\n",
       "      <td>0.737247</td>\n",
       "      <td>22.222222</td>\n",
       "      <td>18.025402</td>\n",
       "      <td>23.138462</td>\n",
       "    </tr>\n",
       "    <tr>\n",
       "      <th>75%</th>\n",
       "      <td>29.832405</td>\n",
       "      <td>2.353051</td>\n",
       "      <td>1.818182</td>\n",
       "      <td>1.891285</td>\n",
       "      <td>5.903500</td>\n",
       "      <td>98.818308</td>\n",
       "      <td>84.776786</td>\n",
       "      <td>1.000000e+02</td>\n",
       "      <td>6.100305</td>\n",
       "      <td>0.787550</td>\n",
       "      <td>0.793651</td>\n",
       "      <td>0.781250</td>\n",
       "      <td>1.675937</td>\n",
       "      <td>23.827869</td>\n",
       "      <td>20.260565</td>\n",
       "      <td>24.213122</td>\n",
       "    </tr>\n",
       "    <tr>\n",
       "      <th>max</th>\n",
       "      <td>43.750000</td>\n",
       "      <td>13.492063</td>\n",
       "      <td>8.000000</td>\n",
       "      <td>10.434783</td>\n",
       "      <td>24.000000</td>\n",
       "      <td>100.000000</td>\n",
       "      <td>92.307692</td>\n",
       "      <td>1.000000e+02</td>\n",
       "      <td>10.483871</td>\n",
       "      <td>4.800000</td>\n",
       "      <td>3.200000</td>\n",
       "      <td>3.200000</td>\n",
       "      <td>10.400000</td>\n",
       "      <td>42.857143</td>\n",
       "      <td>40.000000</td>\n",
       "      <td>42.857143</td>\n",
       "    </tr>\n",
       "  </tbody>\n",
       "</table>\n",
       "</div>"
      ],
      "text/plain": [
       "          female      black      asian  latin_american  non_white       white  \\\n",
       "count  92.000000  92.000000  92.000000       92.000000  92.000000   92.000000   \n",
       "mean   22.000075   1.757551   1.237970        1.301372   4.231477   95.768523   \n",
       "std     8.700429   2.420938   1.552632        1.703993   4.428752    4.428752   \n",
       "min     7.692308   0.000000   0.000000        0.000000   0.000000   76.000000   \n",
       "25%    15.223214   0.000000   0.000000        0.000000   1.181692   94.096500   \n",
       "50%    20.099835   0.896879   0.892928        0.917431   2.945707   97.054293   \n",
       "75%    29.832405   2.353051   1.818182        1.891285   5.903500   98.818308   \n",
       "max    43.750000  13.492063   8.000000       10.434783  24.000000  100.000000   \n",
       "\n",
       "            male  total_nominees  female_winners  black_winners  \\\n",
       "count  92.000000    9.200000e+01       92.000000      92.000000   \n",
       "mean   77.999925    1.000000e+02        4.768313       0.432448   \n",
       "std     8.700429    7.448512e-15        2.313987       0.873019   \n",
       "min    56.250000    1.000000e+02        1.098901       0.000000   \n",
       "25%    70.167595    1.000000e+02        2.872559       0.000000   \n",
       "50%    79.900165    1.000000e+02        4.454365       0.000000   \n",
       "75%    84.776786    1.000000e+02        6.100305       0.787550   \n",
       "max    92.307692    1.000000e+02       10.483871       4.800000   \n",
       "\n",
       "       asian_winners  latin_american_winners  non_white_winners  \\\n",
       "count      92.000000               92.000000          92.000000   \n",
       "mean        0.308252                0.355052           1.067978   \n",
       "std         0.557705                0.687169           1.589890   \n",
       "min         0.000000                0.000000           0.000000   \n",
       "25%         0.000000                0.000000           0.000000   \n",
       "50%         0.000000                0.000000           0.737247   \n",
       "75%         0.793651                0.781250           1.675937   \n",
       "max         3.200000                3.200000          10.400000   \n",
       "\n",
       "       white_winners  male_winners  total_winners  \n",
       "count      92.000000     92.000000      92.000000  \n",
       "mean       22.088159     18.387823      23.156136  \n",
       "std         3.960234      4.120941       3.568432  \n",
       "min        12.000000     11.290323      14.285714  \n",
       "25%        20.120968     15.367290      22.131148  \n",
       "50%        22.222222     18.025402      23.138462  \n",
       "75%        23.827869     20.260565      24.213122  \n",
       "max        42.857143     40.000000      42.857143  "
      ]
     },
     "execution_count": 28,
     "metadata": {},
     "output_type": "execute_result"
    }
   ],
   "source": [
    "# total\n",
    "demographics_perc.describe()"
   ]
  },
  {
   "cell_type": "code",
   "execution_count": 29,
   "metadata": {},
   "outputs": [
    {
     "data": {
      "text/html": [
       "<div>\n",
       "<style scoped>\n",
       "    .dataframe tbody tr th:only-of-type {\n",
       "        vertical-align: middle;\n",
       "    }\n",
       "\n",
       "    .dataframe tbody tr th {\n",
       "        vertical-align: top;\n",
       "    }\n",
       "\n",
       "    .dataframe thead th {\n",
       "        text-align: right;\n",
       "    }\n",
       "</style>\n",
       "<table border=\"1\" class=\"dataframe\">\n",
       "  <thead>\n",
       "    <tr style=\"text-align: right;\">\n",
       "      <th></th>\n",
       "      <th>female</th>\n",
       "      <th>black</th>\n",
       "      <th>asian</th>\n",
       "      <th>latin_american</th>\n",
       "      <th>non_white</th>\n",
       "      <th>white</th>\n",
       "      <th>male</th>\n",
       "      <th>total_nominees</th>\n",
       "      <th>female_winners</th>\n",
       "      <th>black_winners</th>\n",
       "      <th>asian_winners</th>\n",
       "      <th>latin_american_winners</th>\n",
       "      <th>non_white_winners</th>\n",
       "      <th>white_winners</th>\n",
       "      <th>male_winners</th>\n",
       "      <th>total_winners</th>\n",
       "    </tr>\n",
       "  </thead>\n",
       "  <tbody>\n",
       "    <tr>\n",
       "      <th>0</th>\n",
       "      <td>0</td>\n",
       "      <td>33</td>\n",
       "      <td>35</td>\n",
       "      <td>37</td>\n",
       "      <td>13</td>\n",
       "      <td>0</td>\n",
       "      <td>0</td>\n",
       "      <td>0</td>\n",
       "      <td>0</td>\n",
       "      <td>67</td>\n",
       "      <td>65</td>\n",
       "      <td>66</td>\n",
       "      <td>44</td>\n",
       "      <td>0</td>\n",
       "      <td>0</td>\n",
       "      <td>0</td>\n",
       "    </tr>\n",
       "  </tbody>\n",
       "</table>\n",
       "</div>"
      ],
      "text/plain": [
       "   female  black  asian  latin_american  non_white  white  male  \\\n",
       "0       0     33     35              37         13      0     0   \n",
       "\n",
       "   total_nominees  female_winners  black_winners  asian_winners  \\\n",
       "0               0               0             67             65   \n",
       "\n",
       "   latin_american_winners  non_white_winners  white_winners  male_winners  \\\n",
       "0                      66                 44              0             0   \n",
       "\n",
       "   total_winners  \n",
       "0              0  "
      ]
     },
     "execution_count": 29,
     "metadata": {},
     "output_type": "execute_result"
    }
   ],
   "source": [
    "# number of years with no nominees or winners of a certain demographic\n",
    "demographics_perc.eq(0).sum().to_frame().T"
   ]
  },
  {
   "cell_type": "markdown",
   "metadata": {},
   "source": [
    "### 3.2.2. Nominees and winners by demographic as % of total nominees and total winners, respectively"
   ]
  },
  {
   "cell_type": "code",
   "execution_count": 30,
   "metadata": {},
   "outputs": [
    {
     "data": {
      "text/html": [
       "<div>\n",
       "<style scoped>\n",
       "    .dataframe tbody tr th:only-of-type {\n",
       "        vertical-align: middle;\n",
       "    }\n",
       "\n",
       "    .dataframe tbody tr th {\n",
       "        vertical-align: top;\n",
       "    }\n",
       "\n",
       "    .dataframe thead th {\n",
       "        text-align: right;\n",
       "    }\n",
       "</style>\n",
       "<table border=\"1\" class=\"dataframe\">\n",
       "  <thead>\n",
       "    <tr style=\"text-align: right;\">\n",
       "      <th></th>\n",
       "      <th>female</th>\n",
       "      <th>black</th>\n",
       "      <th>asian</th>\n",
       "      <th>latin_american</th>\n",
       "      <th>non_white</th>\n",
       "      <th>white</th>\n",
       "      <th>total_nominees</th>\n",
       "      <th>male</th>\n",
       "      <th>total_winners</th>\n",
       "      <th>female_winners</th>\n",
       "      <th>black_winners</th>\n",
       "      <th>asian_winners</th>\n",
       "      <th>latin_american_winners</th>\n",
       "      <th>non_white_winners</th>\n",
       "      <th>white_winners</th>\n",
       "      <th>male_winners</th>\n",
       "    </tr>\n",
       "    <tr>\n",
       "      <th>year_ceremony</th>\n",
       "      <th></th>\n",
       "      <th></th>\n",
       "      <th></th>\n",
       "      <th></th>\n",
       "      <th></th>\n",
       "      <th></th>\n",
       "      <th></th>\n",
       "      <th></th>\n",
       "      <th></th>\n",
       "      <th></th>\n",
       "      <th></th>\n",
       "      <th></th>\n",
       "      <th></th>\n",
       "      <th></th>\n",
       "      <th></th>\n",
       "      <th></th>\n",
       "    </tr>\n",
       "  </thead>\n",
       "  <tbody>\n",
       "    <tr>\n",
       "      <th>1928</th>\n",
       "      <td>8.571429</td>\n",
       "      <td>0.000000</td>\n",
       "      <td>0.000000</td>\n",
       "      <td>0.000000</td>\n",
       "      <td>0.000000</td>\n",
       "      <td>100.000000</td>\n",
       "      <td>100.0</td>\n",
       "      <td>91.428571</td>\n",
       "      <td>100.0</td>\n",
       "      <td>6.666667</td>\n",
       "      <td>0.000000</td>\n",
       "      <td>0.000000</td>\n",
       "      <td>0.000000</td>\n",
       "      <td>0.000000</td>\n",
       "      <td>100.000000</td>\n",
       "      <td>93.333333</td>\n",
       "    </tr>\n",
       "    <tr>\n",
       "      <th>1929</th>\n",
       "      <td>21.052632</td>\n",
       "      <td>0.000000</td>\n",
       "      <td>0.000000</td>\n",
       "      <td>0.000000</td>\n",
       "      <td>0.000000</td>\n",
       "      <td>100.000000</td>\n",
       "      <td>100.0</td>\n",
       "      <td>78.947368</td>\n",
       "      <td>100.0</td>\n",
       "      <td>14.285714</td>\n",
       "      <td>0.000000</td>\n",
       "      <td>0.000000</td>\n",
       "      <td>0.000000</td>\n",
       "      <td>0.000000</td>\n",
       "      <td>100.000000</td>\n",
       "      <td>85.714286</td>\n",
       "    </tr>\n",
       "    <tr>\n",
       "      <th>1930</th>\n",
       "      <td>19.047619</td>\n",
       "      <td>0.000000</td>\n",
       "      <td>0.000000</td>\n",
       "      <td>0.000000</td>\n",
       "      <td>0.000000</td>\n",
       "      <td>100.000000</td>\n",
       "      <td>100.0</td>\n",
       "      <td>80.952381</td>\n",
       "      <td>100.0</td>\n",
       "      <td>25.000000</td>\n",
       "      <td>0.000000</td>\n",
       "      <td>0.000000</td>\n",
       "      <td>0.000000</td>\n",
       "      <td>0.000000</td>\n",
       "      <td>100.000000</td>\n",
       "      <td>75.000000</td>\n",
       "    </tr>\n",
       "    <tr>\n",
       "      <th>1931</th>\n",
       "      <td>11.363636</td>\n",
       "      <td>0.000000</td>\n",
       "      <td>0.000000</td>\n",
       "      <td>2.272727</td>\n",
       "      <td>2.272727</td>\n",
       "      <td>97.727273</td>\n",
       "      <td>100.0</td>\n",
       "      <td>88.636364</td>\n",
       "      <td>100.0</td>\n",
       "      <td>11.111111</td>\n",
       "      <td>0.000000</td>\n",
       "      <td>0.000000</td>\n",
       "      <td>0.000000</td>\n",
       "      <td>0.000000</td>\n",
       "      <td>100.000000</td>\n",
       "      <td>88.888889</td>\n",
       "    </tr>\n",
       "    <tr>\n",
       "      <th>1932</th>\n",
       "      <td>13.333333</td>\n",
       "      <td>0.000000</td>\n",
       "      <td>0.000000</td>\n",
       "      <td>0.000000</td>\n",
       "      <td>0.000000</td>\n",
       "      <td>100.000000</td>\n",
       "      <td>100.0</td>\n",
       "      <td>86.666667</td>\n",
       "      <td>100.0</td>\n",
       "      <td>14.285714</td>\n",
       "      <td>0.000000</td>\n",
       "      <td>0.000000</td>\n",
       "      <td>0.000000</td>\n",
       "      <td>0.000000</td>\n",
       "      <td>100.000000</td>\n",
       "      <td>85.714286</td>\n",
       "    </tr>\n",
       "    <tr>\n",
       "      <th>...</th>\n",
       "      <td>...</td>\n",
       "      <td>...</td>\n",
       "      <td>...</td>\n",
       "      <td>...</td>\n",
       "      <td>...</td>\n",
       "      <td>...</td>\n",
       "      <td>...</td>\n",
       "      <td>...</td>\n",
       "      <td>...</td>\n",
       "      <td>...</td>\n",
       "      <td>...</td>\n",
       "      <td>...</td>\n",
       "      <td>...</td>\n",
       "      <td>...</td>\n",
       "      <td>...</td>\n",
       "      <td>...</td>\n",
       "    </tr>\n",
       "    <tr>\n",
       "      <th>2016</th>\n",
       "      <td>37.096774</td>\n",
       "      <td>1.612903</td>\n",
       "      <td>3.225806</td>\n",
       "      <td>2.419355</td>\n",
       "      <td>7.258065</td>\n",
       "      <td>92.741935</td>\n",
       "      <td>100.0</td>\n",
       "      <td>62.903226</td>\n",
       "      <td>100.0</td>\n",
       "      <td>48.148148</td>\n",
       "      <td>3.703704</td>\n",
       "      <td>3.703704</td>\n",
       "      <td>7.407407</td>\n",
       "      <td>14.814815</td>\n",
       "      <td>85.185185</td>\n",
       "      <td>51.851852</td>\n",
       "    </tr>\n",
       "    <tr>\n",
       "      <th>2017</th>\n",
       "      <td>34.920635</td>\n",
       "      <td>13.492063</td>\n",
       "      <td>2.380952</td>\n",
       "      <td>1.587302</td>\n",
       "      <td>17.460317</td>\n",
       "      <td>82.539683</td>\n",
       "      <td>100.0</td>\n",
       "      <td>65.079365</td>\n",
       "      <td>100.0</td>\n",
       "      <td>32.142857</td>\n",
       "      <td>14.285714</td>\n",
       "      <td>0.000000</td>\n",
       "      <td>0.000000</td>\n",
       "      <td>14.285714</td>\n",
       "      <td>85.714286</td>\n",
       "      <td>67.857143</td>\n",
       "    </tr>\n",
       "    <tr>\n",
       "      <th>2018</th>\n",
       "      <td>38.582677</td>\n",
       "      <td>7.874016</td>\n",
       "      <td>3.149606</td>\n",
       "      <td>3.149606</td>\n",
       "      <td>14.173228</td>\n",
       "      <td>85.826772</td>\n",
       "      <td>100.0</td>\n",
       "      <td>61.417323</td>\n",
       "      <td>100.0</td>\n",
       "      <td>24.137931</td>\n",
       "      <td>6.896552</td>\n",
       "      <td>0.000000</td>\n",
       "      <td>6.896552</td>\n",
       "      <td>13.793103</td>\n",
       "      <td>86.206897</td>\n",
       "      <td>75.862069</td>\n",
       "    </tr>\n",
       "    <tr>\n",
       "      <th>2019</th>\n",
       "      <td>40.800000</td>\n",
       "      <td>9.600000</td>\n",
       "      <td>8.000000</td>\n",
       "      <td>8.000000</td>\n",
       "      <td>24.000000</td>\n",
       "      <td>76.000000</td>\n",
       "      <td>100.0</td>\n",
       "      <td>59.200000</td>\n",
       "      <td>100.0</td>\n",
       "      <td>46.428571</td>\n",
       "      <td>21.428571</td>\n",
       "      <td>14.285714</td>\n",
       "      <td>14.285714</td>\n",
       "      <td>46.428571</td>\n",
       "      <td>53.571429</td>\n",
       "      <td>53.571429</td>\n",
       "    </tr>\n",
       "    <tr>\n",
       "      <th>2020</th>\n",
       "      <td>43.750000</td>\n",
       "      <td>2.343750</td>\n",
       "      <td>4.687500</td>\n",
       "      <td>3.906250</td>\n",
       "      <td>10.937500</td>\n",
       "      <td>89.062500</td>\n",
       "      <td>100.0</td>\n",
       "      <td>56.250000</td>\n",
       "      <td>100.0</td>\n",
       "      <td>39.285714</td>\n",
       "      <td>3.571429</td>\n",
       "      <td>3.571429</td>\n",
       "      <td>3.571429</td>\n",
       "      <td>10.714286</td>\n",
       "      <td>89.285714</td>\n",
       "      <td>60.714286</td>\n",
       "    </tr>\n",
       "  </tbody>\n",
       "</table>\n",
       "<p>92 rows × 16 columns</p>\n",
       "</div>"
      ],
      "text/plain": [
       "                  female      black     asian  latin_american  non_white  \\\n",
       "year_ceremony                                                              \n",
       "1928            8.571429   0.000000  0.000000        0.000000   0.000000   \n",
       "1929           21.052632   0.000000  0.000000        0.000000   0.000000   \n",
       "1930           19.047619   0.000000  0.000000        0.000000   0.000000   \n",
       "1931           11.363636   0.000000  0.000000        2.272727   2.272727   \n",
       "1932           13.333333   0.000000  0.000000        0.000000   0.000000   \n",
       "...                  ...        ...       ...             ...        ...   \n",
       "2016           37.096774   1.612903  3.225806        2.419355   7.258065   \n",
       "2017           34.920635  13.492063  2.380952        1.587302  17.460317   \n",
       "2018           38.582677   7.874016  3.149606        3.149606  14.173228   \n",
       "2019           40.800000   9.600000  8.000000        8.000000  24.000000   \n",
       "2020           43.750000   2.343750  4.687500        3.906250  10.937500   \n",
       "\n",
       "                    white  total_nominees       male  total_winners  \\\n",
       "year_ceremony                                                         \n",
       "1928           100.000000           100.0  91.428571          100.0   \n",
       "1929           100.000000           100.0  78.947368          100.0   \n",
       "1930           100.000000           100.0  80.952381          100.0   \n",
       "1931            97.727273           100.0  88.636364          100.0   \n",
       "1932           100.000000           100.0  86.666667          100.0   \n",
       "...                   ...             ...        ...            ...   \n",
       "2016            92.741935           100.0  62.903226          100.0   \n",
       "2017            82.539683           100.0  65.079365          100.0   \n",
       "2018            85.826772           100.0  61.417323          100.0   \n",
       "2019            76.000000           100.0  59.200000          100.0   \n",
       "2020            89.062500           100.0  56.250000          100.0   \n",
       "\n",
       "               female_winners  black_winners  asian_winners  \\\n",
       "year_ceremony                                                 \n",
       "1928                 6.666667       0.000000       0.000000   \n",
       "1929                14.285714       0.000000       0.000000   \n",
       "1930                25.000000       0.000000       0.000000   \n",
       "1931                11.111111       0.000000       0.000000   \n",
       "1932                14.285714       0.000000       0.000000   \n",
       "...                       ...            ...            ...   \n",
       "2016                48.148148       3.703704       3.703704   \n",
       "2017                32.142857      14.285714       0.000000   \n",
       "2018                24.137931       6.896552       0.000000   \n",
       "2019                46.428571      21.428571      14.285714   \n",
       "2020                39.285714       3.571429       3.571429   \n",
       "\n",
       "               latin_american_winners  non_white_winners  white_winners  \\\n",
       "year_ceremony                                                             \n",
       "1928                         0.000000           0.000000     100.000000   \n",
       "1929                         0.000000           0.000000     100.000000   \n",
       "1930                         0.000000           0.000000     100.000000   \n",
       "1931                         0.000000           0.000000     100.000000   \n",
       "1932                         0.000000           0.000000     100.000000   \n",
       "...                               ...                ...            ...   \n",
       "2016                         7.407407          14.814815      85.185185   \n",
       "2017                         0.000000          14.285714      85.714286   \n",
       "2018                         6.896552          13.793103      86.206897   \n",
       "2019                        14.285714          46.428571      53.571429   \n",
       "2020                         3.571429          10.714286      89.285714   \n",
       "\n",
       "               male_winners  \n",
       "year_ceremony                \n",
       "1928              93.333333  \n",
       "1929              85.714286  \n",
       "1930              75.000000  \n",
       "1931              88.888889  \n",
       "1932              85.714286  \n",
       "...                     ...  \n",
       "2016              51.851852  \n",
       "2017              67.857143  \n",
       "2018              75.862069  \n",
       "2019              53.571429  \n",
       "2020              60.714286  \n",
       "\n",
       "[92 rows x 16 columns]"
      ]
     },
     "execution_count": 30,
     "metadata": {},
     "output_type": "execute_result"
    }
   ],
   "source": [
    "# by year\n",
    "demographics_perc_sep"
   ]
  },
  {
   "cell_type": "code",
   "execution_count": 31,
   "metadata": {
    "scrolled": true
   },
   "outputs": [
    {
     "data": {
      "text/html": [
       "<div>\n",
       "<style scoped>\n",
       "    .dataframe tbody tr th:only-of-type {\n",
       "        vertical-align: middle;\n",
       "    }\n",
       "\n",
       "    .dataframe tbody tr th {\n",
       "        vertical-align: top;\n",
       "    }\n",
       "\n",
       "    .dataframe thead th {\n",
       "        text-align: right;\n",
       "    }\n",
       "</style>\n",
       "<table border=\"1\" class=\"dataframe\">\n",
       "  <thead>\n",
       "    <tr style=\"text-align: right;\">\n",
       "      <th></th>\n",
       "      <th>female</th>\n",
       "      <th>black</th>\n",
       "      <th>asian</th>\n",
       "      <th>latin_american</th>\n",
       "      <th>non_white</th>\n",
       "      <th>white</th>\n",
       "      <th>total_nominees</th>\n",
       "      <th>male</th>\n",
       "      <th>total_winners</th>\n",
       "      <th>female_winners</th>\n",
       "      <th>black_winners</th>\n",
       "      <th>asian_winners</th>\n",
       "      <th>latin_american_winners</th>\n",
       "      <th>non_white_winners</th>\n",
       "      <th>white_winners</th>\n",
       "      <th>male_winners</th>\n",
       "    </tr>\n",
       "  </thead>\n",
       "  <tbody>\n",
       "    <tr>\n",
       "      <th>count</th>\n",
       "      <td>92.000000</td>\n",
       "      <td>92.000000</td>\n",
       "      <td>92.000000</td>\n",
       "      <td>92.000000</td>\n",
       "      <td>92.000000</td>\n",
       "      <td>92.000000</td>\n",
       "      <td>9.200000e+01</td>\n",
       "      <td>92.000000</td>\n",
       "      <td>9.200000e+01</td>\n",
       "      <td>92.000000</td>\n",
       "      <td>92.000000</td>\n",
       "      <td>92.000000</td>\n",
       "      <td>92.000000</td>\n",
       "      <td>92.000000</td>\n",
       "      <td>92.000000</td>\n",
       "      <td>92.000000</td>\n",
       "    </tr>\n",
       "    <tr>\n",
       "      <th>mean</th>\n",
       "      <td>22.000075</td>\n",
       "      <td>1.757551</td>\n",
       "      <td>1.237970</td>\n",
       "      <td>1.301372</td>\n",
       "      <td>4.231477</td>\n",
       "      <td>95.768523</td>\n",
       "      <td>1.000000e+02</td>\n",
       "      <td>77.999925</td>\n",
       "      <td>1.000000e+02</td>\n",
       "      <td>20.759526</td>\n",
       "      <td>1.893456</td>\n",
       "      <td>1.344390</td>\n",
       "      <td>1.550855</td>\n",
       "      <td>4.667584</td>\n",
       "      <td>95.332416</td>\n",
       "      <td>79.240474</td>\n",
       "    </tr>\n",
       "    <tr>\n",
       "      <th>std</th>\n",
       "      <td>8.700429</td>\n",
       "      <td>2.420938</td>\n",
       "      <td>1.552632</td>\n",
       "      <td>1.703993</td>\n",
       "      <td>4.428752</td>\n",
       "      <td>4.428752</td>\n",
       "      <td>7.448512e-15</td>\n",
       "      <td>8.700429</td>\n",
       "      <td>5.769592e-15</td>\n",
       "      <td>10.147325</td>\n",
       "      <td>3.841206</td>\n",
       "      <td>2.443342</td>\n",
       "      <td>3.048128</td>\n",
       "      <td>7.054437</td>\n",
       "      <td>7.054437</td>\n",
       "      <td>10.147325</td>\n",
       "    </tr>\n",
       "    <tr>\n",
       "      <th>min</th>\n",
       "      <td>7.692308</td>\n",
       "      <td>0.000000</td>\n",
       "      <td>0.000000</td>\n",
       "      <td>0.000000</td>\n",
       "      <td>0.000000</td>\n",
       "      <td>76.000000</td>\n",
       "      <td>1.000000e+02</td>\n",
       "      <td>56.250000</td>\n",
       "      <td>1.000000e+02</td>\n",
       "      <td>5.555556</td>\n",
       "      <td>0.000000</td>\n",
       "      <td>0.000000</td>\n",
       "      <td>0.000000</td>\n",
       "      <td>0.000000</td>\n",
       "      <td>53.571429</td>\n",
       "      <td>51.851852</td>\n",
       "    </tr>\n",
       "    <tr>\n",
       "      <th>25%</th>\n",
       "      <td>15.223214</td>\n",
       "      <td>0.000000</td>\n",
       "      <td>0.000000</td>\n",
       "      <td>0.000000</td>\n",
       "      <td>1.181692</td>\n",
       "      <td>94.096500</td>\n",
       "      <td>1.000000e+02</td>\n",
       "      <td>70.167595</td>\n",
       "      <td>1.000000e+02</td>\n",
       "      <td>12.500000</td>\n",
       "      <td>0.000000</td>\n",
       "      <td>0.000000</td>\n",
       "      <td>0.000000</td>\n",
       "      <td>0.000000</td>\n",
       "      <td>92.521368</td>\n",
       "      <td>73.076923</td>\n",
       "    </tr>\n",
       "    <tr>\n",
       "      <th>50%</th>\n",
       "      <td>20.099835</td>\n",
       "      <td>0.896879</td>\n",
       "      <td>0.892928</td>\n",
       "      <td>0.917431</td>\n",
       "      <td>2.945707</td>\n",
       "      <td>97.054293</td>\n",
       "      <td>1.000000e+02</td>\n",
       "      <td>79.900165</td>\n",
       "      <td>1.000000e+02</td>\n",
       "      <td>18.518519</td>\n",
       "      <td>0.000000</td>\n",
       "      <td>0.000000</td>\n",
       "      <td>0.000000</td>\n",
       "      <td>3.229167</td>\n",
       "      <td>96.770833</td>\n",
       "      <td>81.481481</td>\n",
       "    </tr>\n",
       "    <tr>\n",
       "      <th>75%</th>\n",
       "      <td>29.832405</td>\n",
       "      <td>2.353051</td>\n",
       "      <td>1.818182</td>\n",
       "      <td>1.891285</td>\n",
       "      <td>5.903500</td>\n",
       "      <td>98.818308</td>\n",
       "      <td>1.000000e+02</td>\n",
       "      <td>84.776786</td>\n",
       "      <td>1.000000e+02</td>\n",
       "      <td>26.923077</td>\n",
       "      <td>3.604497</td>\n",
       "      <td>3.571429</td>\n",
       "      <td>3.177083</td>\n",
       "      <td>7.478632</td>\n",
       "      <td>100.000000</td>\n",
       "      <td>87.500000</td>\n",
       "    </tr>\n",
       "    <tr>\n",
       "      <th>max</th>\n",
       "      <td>43.750000</td>\n",
       "      <td>13.492063</td>\n",
       "      <td>8.000000</td>\n",
       "      <td>10.434783</td>\n",
       "      <td>24.000000</td>\n",
       "      <td>100.000000</td>\n",
       "      <td>1.000000e+02</td>\n",
       "      <td>92.307692</td>\n",
       "      <td>1.000000e+02</td>\n",
       "      <td>48.148148</td>\n",
       "      <td>21.428571</td>\n",
       "      <td>14.285714</td>\n",
       "      <td>14.285714</td>\n",
       "      <td>46.428571</td>\n",
       "      <td>100.000000</td>\n",
       "      <td>94.444444</td>\n",
       "    </tr>\n",
       "  </tbody>\n",
       "</table>\n",
       "</div>"
      ],
      "text/plain": [
       "          female      black      asian  latin_american  non_white       white  \\\n",
       "count  92.000000  92.000000  92.000000       92.000000  92.000000   92.000000   \n",
       "mean   22.000075   1.757551   1.237970        1.301372   4.231477   95.768523   \n",
       "std     8.700429   2.420938   1.552632        1.703993   4.428752    4.428752   \n",
       "min     7.692308   0.000000   0.000000        0.000000   0.000000   76.000000   \n",
       "25%    15.223214   0.000000   0.000000        0.000000   1.181692   94.096500   \n",
       "50%    20.099835   0.896879   0.892928        0.917431   2.945707   97.054293   \n",
       "75%    29.832405   2.353051   1.818182        1.891285   5.903500   98.818308   \n",
       "max    43.750000  13.492063   8.000000       10.434783  24.000000  100.000000   \n",
       "\n",
       "       total_nominees       male  total_winners  female_winners  \\\n",
       "count    9.200000e+01  92.000000   9.200000e+01       92.000000   \n",
       "mean     1.000000e+02  77.999925   1.000000e+02       20.759526   \n",
       "std      7.448512e-15   8.700429   5.769592e-15       10.147325   \n",
       "min      1.000000e+02  56.250000   1.000000e+02        5.555556   \n",
       "25%      1.000000e+02  70.167595   1.000000e+02       12.500000   \n",
       "50%      1.000000e+02  79.900165   1.000000e+02       18.518519   \n",
       "75%      1.000000e+02  84.776786   1.000000e+02       26.923077   \n",
       "max      1.000000e+02  92.307692   1.000000e+02       48.148148   \n",
       "\n",
       "       black_winners  asian_winners  latin_american_winners  \\\n",
       "count      92.000000      92.000000               92.000000   \n",
       "mean        1.893456       1.344390                1.550855   \n",
       "std         3.841206       2.443342                3.048128   \n",
       "min         0.000000       0.000000                0.000000   \n",
       "25%         0.000000       0.000000                0.000000   \n",
       "50%         0.000000       0.000000                0.000000   \n",
       "75%         3.604497       3.571429                3.177083   \n",
       "max        21.428571      14.285714               14.285714   \n",
       "\n",
       "       non_white_winners  white_winners  male_winners  \n",
       "count          92.000000      92.000000     92.000000  \n",
       "mean            4.667584      95.332416     79.240474  \n",
       "std             7.054437       7.054437     10.147325  \n",
       "min             0.000000      53.571429     51.851852  \n",
       "25%             0.000000      92.521368     73.076923  \n",
       "50%             3.229167      96.770833     81.481481  \n",
       "75%             7.478632     100.000000     87.500000  \n",
       "max            46.428571     100.000000     94.444444  "
      ]
     },
     "execution_count": 31,
     "metadata": {},
     "output_type": "execute_result"
    }
   ],
   "source": [
    "# total\n",
    "demographics_perc_sep.describe()"
   ]
  },
  {
   "cell_type": "markdown",
   "metadata": {},
   "source": [
    "### 3.2.3. Gender distribution by year"
   ]
  },
  {
   "cell_type": "markdown",
   "metadata": {},
   "source": [
    "- Both the percentage of female vs male nominees and the percentage of female vs male winners seem to be increasing over the years. \n",
    "- 2020 has been the year with the highest % of female nominees (43.8%).\n",
    "- 2016 was the year with the highest % of female winners (48.1%)."
   ]
  },
  {
   "cell_type": "markdown",
   "metadata": {},
   "source": [
    "*Nominees*"
   ]
  },
  {
   "cell_type": "code",
   "execution_count": 32,
   "metadata": {
    "scrolled": false
   },
   "outputs": [
    {
     "name": "stdout",
     "output_type": "stream",
     "text": [
      "AxesSubplot(0.125,0.125;0.775x0.755)\n"
     ]
    },
    {
     "data": {
      "image/png": "[encoded data removed]",
      "text/plain": [
       "<Figure size 432x288 with 1 Axes>"
      ]
     },
     "metadata": {
      "needs_background": "light"
     },
     "output_type": "display_data"
    }
   ],
   "source": [
    "# percentage of male vs female nominees (out of total nominees)\n",
    "print(demographics_perc[['female', 'male']].plot())"
   ]
  },
  {
   "cell_type": "markdown",
   "metadata": {},
   "source": [
    "*Winners*"
   ]
  },
  {
   "cell_type": "code",
   "execution_count": 33,
   "metadata": {
    "scrolled": true
   },
   "outputs": [
    {
     "name": "stdout",
     "output_type": "stream",
     "text": [
      "AxesSubplot(0.125,0.125;0.775x0.755)\n"
     ]
    },
    {
     "data": {
      "image/png": "[encoded data removed]",
      "text/plain": [
       "<Figure size 432x288 with 1 Axes>"
      ]
     },
     "metadata": {
      "needs_background": "light"
     },
     "output_type": "display_data"
    }
   ],
   "source": [
    "# percentage of male vs female winners (out of total winners)\n",
    "print(demographics_perc_sep[['female_winners', 'male_winners']].plot())"
   ]
  },
  {
   "cell_type": "markdown",
   "metadata": {},
   "source": [
    "*Evolution of % of female nominees vs winners*"
   ]
  },
  {
   "cell_type": "code",
   "execution_count": 34,
   "metadata": {
    "scrolled": true
   },
   "outputs": [
    {
     "data": {
      "text/plain": [
       "<matplotlib.axes._subplots.AxesSubplot at 0x1092a6e50>"
      ]
     },
     "execution_count": 34,
     "metadata": {},
     "output_type": "execute_result"
    },
    {
     "data": {
      "image/png": "[encoded data removed]",
      "text/plain": [
       "<Figure size 432x288 with 1 Axes>"
      ]
     },
     "metadata": {
      "needs_background": "light"
     },
     "output_type": "display_data"
    }
   ],
   "source": [
    "demographics_perc_sep[['female', 'female_winners']].plot()"
   ]
  },
  {
   "cell_type": "markdown",
   "metadata": {},
   "source": [
    "### 3.2.4. Racial distribution by year"
   ]
  },
  {
   "cell_type": "markdown",
   "metadata": {},
   "source": [
    "- Both the percentage of POC vs white nominees and the percentage of POC vs white winners seem to be increasing over the years, with a highest increase in the past 20 years.\n",
    "- 2019 was the year with the highest % of POC nominees (24%).\n",
    "- 2019 was also the year with the highest % of female winners (46%)."
   ]
  },
  {
   "cell_type": "markdown",
   "metadata": {},
   "source": [
    "*Nominees*"
   ]
  },
  {
   "cell_type": "code",
   "execution_count": 35,
   "metadata": {},
   "outputs": [
    {
     "data": {
      "text/html": [
       "<div>\n",
       "<style scoped>\n",
       "    .dataframe tbody tr th:only-of-type {\n",
       "        vertical-align: middle;\n",
       "    }\n",
       "\n",
       "    .dataframe tbody tr th {\n",
       "        vertical-align: top;\n",
       "    }\n",
       "\n",
       "    .dataframe thead th {\n",
       "        text-align: right;\n",
       "    }\n",
       "</style>\n",
       "<table border=\"1\" class=\"dataframe\">\n",
       "  <thead>\n",
       "    <tr style=\"text-align: right;\">\n",
       "      <th></th>\n",
       "      <th>female</th>\n",
       "      <th>black</th>\n",
       "      <th>asian</th>\n",
       "      <th>latin_american</th>\n",
       "      <th>non_white</th>\n",
       "      <th>white</th>\n",
       "      <th>total_nominees</th>\n",
       "      <th>male</th>\n",
       "      <th>total_winners</th>\n",
       "      <th>female_winners</th>\n",
       "      <th>black_winners</th>\n",
       "      <th>asian_winners</th>\n",
       "      <th>latin_american_winners</th>\n",
       "      <th>non_white_winners</th>\n",
       "      <th>white_winners</th>\n",
       "      <th>male_winners</th>\n",
       "    </tr>\n",
       "    <tr>\n",
       "      <th>year_ceremony</th>\n",
       "      <th></th>\n",
       "      <th></th>\n",
       "      <th></th>\n",
       "      <th></th>\n",
       "      <th></th>\n",
       "      <th></th>\n",
       "      <th></th>\n",
       "      <th></th>\n",
       "      <th></th>\n",
       "      <th></th>\n",
       "      <th></th>\n",
       "      <th></th>\n",
       "      <th></th>\n",
       "      <th></th>\n",
       "      <th></th>\n",
       "      <th></th>\n",
       "    </tr>\n",
       "  </thead>\n",
       "  <tbody>\n",
       "    <tr>\n",
       "      <th>2016</th>\n",
       "      <td>37.096774</td>\n",
       "      <td>1.612903</td>\n",
       "      <td>3.225806</td>\n",
       "      <td>2.419355</td>\n",
       "      <td>7.258065</td>\n",
       "      <td>92.741935</td>\n",
       "      <td>100.0</td>\n",
       "      <td>62.903226</td>\n",
       "      <td>100.0</td>\n",
       "      <td>48.148148</td>\n",
       "      <td>3.703704</td>\n",
       "      <td>3.703704</td>\n",
       "      <td>7.407407</td>\n",
       "      <td>14.814815</td>\n",
       "      <td>85.185185</td>\n",
       "      <td>51.851852</td>\n",
       "    </tr>\n",
       "    <tr>\n",
       "      <th>2017</th>\n",
       "      <td>34.920635</td>\n",
       "      <td>13.492063</td>\n",
       "      <td>2.380952</td>\n",
       "      <td>1.587302</td>\n",
       "      <td>17.460317</td>\n",
       "      <td>82.539683</td>\n",
       "      <td>100.0</td>\n",
       "      <td>65.079365</td>\n",
       "      <td>100.0</td>\n",
       "      <td>32.142857</td>\n",
       "      <td>14.285714</td>\n",
       "      <td>0.000000</td>\n",
       "      <td>0.000000</td>\n",
       "      <td>14.285714</td>\n",
       "      <td>85.714286</td>\n",
       "      <td>67.857143</td>\n",
       "    </tr>\n",
       "    <tr>\n",
       "      <th>2018</th>\n",
       "      <td>38.582677</td>\n",
       "      <td>7.874016</td>\n",
       "      <td>3.149606</td>\n",
       "      <td>3.149606</td>\n",
       "      <td>14.173228</td>\n",
       "      <td>85.826772</td>\n",
       "      <td>100.0</td>\n",
       "      <td>61.417323</td>\n",
       "      <td>100.0</td>\n",
       "      <td>24.137931</td>\n",
       "      <td>6.896552</td>\n",
       "      <td>0.000000</td>\n",
       "      <td>6.896552</td>\n",
       "      <td>13.793103</td>\n",
       "      <td>86.206897</td>\n",
       "      <td>75.862069</td>\n",
       "    </tr>\n",
       "    <tr>\n",
       "      <th>2019</th>\n",
       "      <td>40.800000</td>\n",
       "      <td>9.600000</td>\n",
       "      <td>8.000000</td>\n",
       "      <td>8.000000</td>\n",
       "      <td>24.000000</td>\n",
       "      <td>76.000000</td>\n",
       "      <td>100.0</td>\n",
       "      <td>59.200000</td>\n",
       "      <td>100.0</td>\n",
       "      <td>46.428571</td>\n",
       "      <td>21.428571</td>\n",
       "      <td>14.285714</td>\n",
       "      <td>14.285714</td>\n",
       "      <td>46.428571</td>\n",
       "      <td>53.571429</td>\n",
       "      <td>53.571429</td>\n",
       "    </tr>\n",
       "    <tr>\n",
       "      <th>2020</th>\n",
       "      <td>43.750000</td>\n",
       "      <td>2.343750</td>\n",
       "      <td>4.687500</td>\n",
       "      <td>3.906250</td>\n",
       "      <td>10.937500</td>\n",
       "      <td>89.062500</td>\n",
       "      <td>100.0</td>\n",
       "      <td>56.250000</td>\n",
       "      <td>100.0</td>\n",
       "      <td>39.285714</td>\n",
       "      <td>3.571429</td>\n",
       "      <td>3.571429</td>\n",
       "      <td>3.571429</td>\n",
       "      <td>10.714286</td>\n",
       "      <td>89.285714</td>\n",
       "      <td>60.714286</td>\n",
       "    </tr>\n",
       "  </tbody>\n",
       "</table>\n",
       "</div>"
      ],
      "text/plain": [
       "                  female      black     asian  latin_american  non_white  \\\n",
       "year_ceremony                                                              \n",
       "2016           37.096774   1.612903  3.225806        2.419355   7.258065   \n",
       "2017           34.920635  13.492063  2.380952        1.587302  17.460317   \n",
       "2018           38.582677   7.874016  3.149606        3.149606  14.173228   \n",
       "2019           40.800000   9.600000  8.000000        8.000000  24.000000   \n",
       "2020           43.750000   2.343750  4.687500        3.906250  10.937500   \n",
       "\n",
       "                   white  total_nominees       male  total_winners  \\\n",
       "year_ceremony                                                        \n",
       "2016           92.741935           100.0  62.903226          100.0   \n",
       "2017           82.539683           100.0  65.079365          100.0   \n",
       "2018           85.826772           100.0  61.417323          100.0   \n",
       "2019           76.000000           100.0  59.200000          100.0   \n",
       "2020           89.062500           100.0  56.250000          100.0   \n",
       "\n",
       "               female_winners  black_winners  asian_winners  \\\n",
       "year_ceremony                                                 \n",
       "2016                48.148148       3.703704       3.703704   \n",
       "2017                32.142857      14.285714       0.000000   \n",
       "2018                24.137931       6.896552       0.000000   \n",
       "2019                46.428571      21.428571      14.285714   \n",
       "2020                39.285714       3.571429       3.571429   \n",
       "\n",
       "               latin_american_winners  non_white_winners  white_winners  \\\n",
       "year_ceremony                                                             \n",
       "2016                         7.407407          14.814815      85.185185   \n",
       "2017                         0.000000          14.285714      85.714286   \n",
       "2018                         6.896552          13.793103      86.206897   \n",
       "2019                        14.285714          46.428571      53.571429   \n",
       "2020                         3.571429          10.714286      89.285714   \n",
       "\n",
       "               male_winners  \n",
       "year_ceremony                \n",
       "2016              51.851852  \n",
       "2017              67.857143  \n",
       "2018              75.862069  \n",
       "2019              53.571429  \n",
       "2020              60.714286  "
      ]
     },
     "execution_count": 35,
     "metadata": {},
     "output_type": "execute_result"
    }
   ],
   "source": [
    "demographics_perc_sep.tail()"
   ]
  },
  {
   "cell_type": "code",
   "execution_count": 36,
   "metadata": {
    "scrolled": true
   },
   "outputs": [
    {
     "name": "stdout",
     "output_type": "stream",
     "text": [
      "AxesSubplot(0.125,0.125;0.775x0.755)\n"
     ]
    },
    {
     "data": {
      "image/png": "[encoded data removed]",
      "text/plain": [
       "<Figure size 432x288 with 1 Axes>"
      ]
     },
     "metadata": {
      "needs_background": "light"
     },
     "output_type": "display_data"
    }
   ],
   "source": [
    "# percentage of white vs POC nominees (out of total nominees)\n",
    "print(demographics_perc[['non_white', 'white']].plot())"
   ]
  },
  {
   "cell_type": "markdown",
   "metadata": {},
   "source": [
    "*Winners*"
   ]
  },
  {
   "cell_type": "code",
   "execution_count": 37,
   "metadata": {
    "scrolled": true
   },
   "outputs": [
    {
     "name": "stdout",
     "output_type": "stream",
     "text": [
      "AxesSubplot(0.125,0.125;0.775x0.755)\n"
     ]
    },
    {
     "data": {
      "image/png": "[encoded data removed]",
      "text/plain": [
       "<Figure size 432x288 with 1 Axes>"
      ]
     },
     "metadata": {
      "needs_background": "light"
     },
     "output_type": "display_data"
    }
   ],
   "source": [
    "# percentage of white vs POC winners (out of total winners)\n",
    "print(demographics_perc_sep[['non_white_winners', 'white_winners']].plot())"
   ]
  },
  {
   "cell_type": "markdown",
   "metadata": {},
   "source": [
    "*Evolution of POC nominees vs winners*"
   ]
  },
  {
   "cell_type": "code",
   "execution_count": 38,
   "metadata": {},
   "outputs": [
    {
     "data": {
      "text/plain": [
       "<matplotlib.axes._subplots.AxesSubplot at 0x126df03a0>"
      ]
     },
     "execution_count": 38,
     "metadata": {},
     "output_type": "execute_result"
    },
    {
     "data": {
      "image/png": "[encoded data removed]",
      "text/plain": [
       "<Figure size 432x288 with 1 Axes>"
      ]
     },
     "metadata": {
      "needs_background": "light"
     },
     "output_type": "display_data"
    }
   ],
   "source": [
    "demographics_perc_sep[['non_white', 'non_white_winners']].plot()"
   ]
  },
  {
   "cell_type": "markdown",
   "metadata": {},
   "source": [
    "### 3.3. Analyzing yearly increase of nominees and winners by gender and race"
   ]
  },
  {
   "cell_type": "markdown",
   "metadata": {},
   "source": [
    "In this section I aim to analyze if growth in one category implicates growth/decrease in another. \n",
    "\n",
    "Results show a strong correlation between the total number of nominees and the number of white and male nominees."
   ]
  },
  {
   "cell_type": "code",
   "execution_count": 39,
   "metadata": {
    "scrolled": true
   },
   "outputs": [],
   "source": [
    "# making copy of dataset\n",
    "nominees_compare = nominees.copy()"
   ]
  },
  {
   "cell_type": "code",
   "execution_count": 40,
   "metadata": {
    "scrolled": true
   },
   "outputs": [],
   "source": [
    "# add male column\n",
    "def male(row):\n",
    "    if row['female'] == True:\n",
    "        return False\n",
    "    else:\n",
    "        return True\n",
    "\n",
    "nominees_compare['male'] = nominees_compare.apply(lambda row: male(row), axis=1)"
   ]
  },
  {
   "cell_type": "code",
   "execution_count": 41,
   "metadata": {},
   "outputs": [],
   "source": [
    "# group by year\n",
    "nominees_compare = nominees_compare.groupby('year_ceremony').sum()"
   ]
  },
  {
   "cell_type": "code",
   "execution_count": 42,
   "metadata": {},
   "outputs": [],
   "source": [
    "# adding 'total' column\n",
    "nominees_compare['total'] = nominees_compare['male'] + nominees_compare['female']"
   ]
  },
  {
   "cell_type": "code",
   "execution_count": 43,
   "metadata": {},
   "outputs": [],
   "source": [
    "# keep only some columns\n",
    "nominees_compare = nominees_compare[['female', 'black', 'asian',\n",
    "       'latin_american', 'non_white', 'white', 'male', 'total']]"
   ]
  },
  {
   "cell_type": "code",
   "execution_count": 44,
   "metadata": {
    "scrolled": false
   },
   "outputs": [
    {
     "data": {
      "text/html": [
       "<div>\n",
       "<style scoped>\n",
       "    .dataframe tbody tr th:only-of-type {\n",
       "        vertical-align: middle;\n",
       "    }\n",
       "\n",
       "    .dataframe tbody tr th {\n",
       "        vertical-align: top;\n",
       "    }\n",
       "\n",
       "    .dataframe thead th {\n",
       "        text-align: right;\n",
       "    }\n",
       "</style>\n",
       "<table border=\"1\" class=\"dataframe\">\n",
       "  <thead>\n",
       "    <tr style=\"text-align: right;\">\n",
       "      <th></th>\n",
       "      <th>female</th>\n",
       "      <th>black</th>\n",
       "      <th>asian</th>\n",
       "      <th>latin_american</th>\n",
       "      <th>non_white</th>\n",
       "      <th>white</th>\n",
       "      <th>male</th>\n",
       "      <th>total</th>\n",
       "    </tr>\n",
       "  </thead>\n",
       "  <tbody>\n",
       "    <tr>\n",
       "      <th>female</th>\n",
       "      <td>1.000000</td>\n",
       "      <td>-0.107095</td>\n",
       "      <td>-0.157827</td>\n",
       "      <td>-0.296054</td>\n",
       "      <td>-0.277201</td>\n",
       "      <td>0.341749</td>\n",
       "      <td>-0.108908</td>\n",
       "      <td>0.312182</td>\n",
       "    </tr>\n",
       "    <tr>\n",
       "      <th>black</th>\n",
       "      <td>-0.107095</td>\n",
       "      <td>1.000000</td>\n",
       "      <td>-0.064545</td>\n",
       "      <td>0.010023</td>\n",
       "      <td>0.487373</td>\n",
       "      <td>-0.453463</td>\n",
       "      <td>0.135120</td>\n",
       "      <td>0.018655</td>\n",
       "    </tr>\n",
       "    <tr>\n",
       "      <th>asian</th>\n",
       "      <td>-0.157827</td>\n",
       "      <td>-0.064545</td>\n",
       "      <td>1.000000</td>\n",
       "      <td>-0.048978</td>\n",
       "      <td>0.281785</td>\n",
       "      <td>-0.187675</td>\n",
       "      <td>0.079458</td>\n",
       "      <td>-0.022410</td>\n",
       "    </tr>\n",
       "    <tr>\n",
       "      <th>latin_american</th>\n",
       "      <td>-0.296054</td>\n",
       "      <td>0.010023</td>\n",
       "      <td>-0.048978</td>\n",
       "      <td>1.000000</td>\n",
       "      <td>0.506670</td>\n",
       "      <td>-0.331185</td>\n",
       "      <td>0.161084</td>\n",
       "      <td>-0.027492</td>\n",
       "    </tr>\n",
       "    <tr>\n",
       "      <th>non_white</th>\n",
       "      <td>-0.277201</td>\n",
       "      <td>0.487373</td>\n",
       "      <td>0.281785</td>\n",
       "      <td>0.506670</td>\n",
       "      <td>1.000000</td>\n",
       "      <td>-0.462728</td>\n",
       "      <td>0.147684</td>\n",
       "      <td>-0.037398</td>\n",
       "    </tr>\n",
       "    <tr>\n",
       "      <th>white</th>\n",
       "      <td>0.341749</td>\n",
       "      <td>-0.453463</td>\n",
       "      <td>-0.187675</td>\n",
       "      <td>-0.331185</td>\n",
       "      <td>-0.462728</td>\n",
       "      <td>1.000000</td>\n",
       "      <td>0.712285</td>\n",
       "      <td>0.882543</td>\n",
       "    </tr>\n",
       "    <tr>\n",
       "      <th>male</th>\n",
       "      <td>-0.108908</td>\n",
       "      <td>0.135120</td>\n",
       "      <td>0.079458</td>\n",
       "      <td>0.161084</td>\n",
       "      <td>0.147684</td>\n",
       "      <td>0.712285</td>\n",
       "      <td>1.000000</td>\n",
       "      <td>0.874081</td>\n",
       "    </tr>\n",
       "    <tr>\n",
       "      <th>total</th>\n",
       "      <td>0.312182</td>\n",
       "      <td>0.018655</td>\n",
       "      <td>-0.022410</td>\n",
       "      <td>-0.027492</td>\n",
       "      <td>-0.037398</td>\n",
       "      <td>0.882543</td>\n",
       "      <td>0.874081</td>\n",
       "      <td>1.000000</td>\n",
       "    </tr>\n",
       "  </tbody>\n",
       "</table>\n",
       "</div>"
      ],
      "text/plain": [
       "                  female     black     asian  latin_american  non_white  \\\n",
       "female          1.000000 -0.107095 -0.157827       -0.296054  -0.277201   \n",
       "black          -0.107095  1.000000 -0.064545        0.010023   0.487373   \n",
       "asian          -0.157827 -0.064545  1.000000       -0.048978   0.281785   \n",
       "latin_american -0.296054  0.010023 -0.048978        1.000000   0.506670   \n",
       "non_white      -0.277201  0.487373  0.281785        0.506670   1.000000   \n",
       "white           0.341749 -0.453463 -0.187675       -0.331185  -0.462728   \n",
       "male           -0.108908  0.135120  0.079458        0.161084   0.147684   \n",
       "total           0.312182  0.018655 -0.022410       -0.027492  -0.037398   \n",
       "\n",
       "                   white      male     total  \n",
       "female          0.341749 -0.108908  0.312182  \n",
       "black          -0.453463  0.135120  0.018655  \n",
       "asian          -0.187675  0.079458 -0.022410  \n",
       "latin_american -0.331185  0.161084 -0.027492  \n",
       "non_white      -0.462728  0.147684 -0.037398  \n",
       "white           1.000000  0.712285  0.882543  \n",
       "male            0.712285  1.000000  0.874081  \n",
       "total           0.882543  0.874081  1.000000  "
      ]
     },
     "execution_count": 44,
     "metadata": {},
     "output_type": "execute_result"
    }
   ],
   "source": [
    "# compute growth rate 1 year and doing correlation\n",
    "nominees_compare.pct_change().corr()"
   ]
  },
  {
   "cell_type": "markdown",
   "metadata": {},
   "source": [
    "### 3.3.1. Plots in absolute value"
   ]
  },
  {
   "cell_type": "code",
   "execution_count": 45,
   "metadata": {},
   "outputs": [
    {
     "data": {
      "text/plain": [
       "<matplotlib.axes._subplots.AxesSubplot at 0x126e19280>"
      ]
     },
     "execution_count": 45,
     "metadata": {},
     "output_type": "execute_result"
    },
    {
     "data": {
      "image/png": "[encoded data removed]",
      "text/plain": [
       "<Figure size 432x288 with 1 Axes>"
      ]
     },
     "metadata": {
      "needs_background": "light"
     },
     "output_type": "display_data"
    }
   ],
   "source": [
    "nominees_compare.plot.scatter('female', 'non_white')"
   ]
  },
  {
   "cell_type": "code",
   "execution_count": 46,
   "metadata": {},
   "outputs": [
    {
     "data": {
      "text/plain": [
       "<matplotlib.axes._subplots.AxesSubplot at 0x1271e1460>"
      ]
     },
     "execution_count": 46,
     "metadata": {},
     "output_type": "execute_result"
    },
    {
     "data": {
      "image/png": "[encoded data removed]",
      "text/plain": [
       "<Figure size 432x288 with 1 Axes>"
      ]
     },
     "metadata": {
      "needs_background": "light"
     },
     "output_type": "display_data"
    }
   ],
   "source": [
    "nominees_compare.plot.scatter('female', 'white')"
   ]
  },
  {
   "cell_type": "code",
   "execution_count": 47,
   "metadata": {},
   "outputs": [
    {
     "data": {
      "text/plain": [
       "<matplotlib.axes._subplots.AxesSubplot at 0x12706c7c0>"
      ]
     },
     "execution_count": 47,
     "metadata": {},
     "output_type": "execute_result"
    },
    {
     "data": {
      "image/png": "[encoded data removed]",
      "text/plain": [
       "<Figure size 432x288 with 1 Axes>"
      ]
     },
     "metadata": {
      "needs_background": "light"
     },
     "output_type": "display_data"
    }
   ],
   "source": [
    "nominees_compare.plot.scatter('male', 'non_white')"
   ]
  },
  {
   "cell_type": "code",
   "execution_count": 48,
   "metadata": {},
   "outputs": [
    {
     "data": {
      "text/plain": [
       "<matplotlib.axes._subplots.AxesSubplot at 0x127136910>"
      ]
     },
     "execution_count": 48,
     "metadata": {},
     "output_type": "execute_result"
    },
    {
     "data": {
      "image/png": "[encoded data removed]",
      "text/plain": [
       "<Figure size 432x288 with 1 Axes>"
      ]
     },
     "metadata": {
      "needs_background": "light"
     },
     "output_type": "display_data"
    }
   ],
   "source": [
    "# si pujen white seran male, si pujen male seran tb white \n",
    "nominees_compare.plot.scatter('male', 'white')"
   ]
  },
  {
   "cell_type": "markdown",
   "metadata": {},
   "source": [
    "### 3.4. Comparing nominees for gendered vs non-gendered categories"
   ]
  },
  {
   "cell_type": "markdown",
   "metadata": {},
   "source": [
    "The categories of the Academy Awards can be grouped in gendered (i.e. actor/actress) and non-gendered (i.e. production). In this section I will analyze the demographics of the nominees by these two groups."
   ]
  },
  {
   "cell_type": "code",
   "execution_count": 49,
   "metadata": {},
   "outputs": [
    {
     "data": {
      "text/plain": [
       "False    8647\n",
       "True     1748\n",
       "Name: gendered_cat, dtype: int64"
      ]
     },
     "execution_count": 49,
     "metadata": {},
     "output_type": "execute_result"
    }
   ],
   "source": [
    "nominees.gendered_cat.value_counts() # there are 8647 not_gendered nominees and 1748 gendered_nominees"
   ]
  },
  {
   "cell_type": "markdown",
   "metadata": {},
   "source": [
    "### 3.4.1. Nominees for gendered category by gender and race"
   ]
  },
  {
   "cell_type": "code",
   "execution_count": 50,
   "metadata": {},
   "outputs": [],
   "source": [
    "nominees_gendered = nominees.loc[nominees.gendered_cat==True]"
   ]
  },
  {
   "cell_type": "code",
   "execution_count": 51,
   "metadata": {},
   "outputs": [],
   "source": [
    "nominees_gendered = nominees_gendered.groupby('year_ceremony', as_index=False).sum()\n",
    "nominees_gendered['total'] = nominees_gendered['white'] + nominees_gendered['non_white']"
   ]
  },
  {
   "cell_type": "code",
   "execution_count": 52,
   "metadata": {},
   "outputs": [],
   "source": [
    "dictionary = dict(nominees_gendered.sum())"
   ]
  },
  {
   "cell_type": "code",
   "execution_count": 53,
   "metadata": {
    "scrolled": true
   },
   "outputs": [],
   "source": [
    "mydict_gendered = {}\n",
    "\n",
    "for key, value in dictionary.items():\n",
    "    mydict_gendered[key] = value / dictionary['total'] *100\n",
    "    \n",
    "mydict_gendered = {k: mydict_gendered[k] for k in ('winner', 'female', 'black', 'asian', 'latin_american', 'non_white', 'white')}\n"
   ]
  },
  {
   "cell_type": "markdown",
   "metadata": {},
   "source": [
    "### 3.4.2. Nominees for non-gendered category by gender and race"
   ]
  },
  {
   "cell_type": "code",
   "execution_count": 54,
   "metadata": {},
   "outputs": [],
   "source": [
    "nominees_not_gendered = nominees.loc[nominees.gendered_cat==False]"
   ]
  },
  {
   "cell_type": "code",
   "execution_count": 55,
   "metadata": {},
   "outputs": [],
   "source": [
    "nominees_not_gendered = nominees_not_gendered.groupby('year_ceremony', as_index=False).sum()\n",
    "nominees_not_gendered['total'] = nominees_not_gendered['white'] + nominees_not_gendered['non_white']"
   ]
  },
  {
   "cell_type": "code",
   "execution_count": 56,
   "metadata": {},
   "outputs": [],
   "source": [
    "dictionary = dict(nominees_not_gendered.sum())"
   ]
  },
  {
   "cell_type": "code",
   "execution_count": 57,
   "metadata": {},
   "outputs": [],
   "source": [
    "mydict_not_gendered = {}\n",
    "\n",
    "for key, value in dictionary.items():\n",
    "    mydict_not_gendered[key] = value / dictionary['total'] *100\n",
    "    \n",
    "mydict_not_gendered = {k: mydict_not_gendered[k] for k in ('winner', 'female', 'black', 'asian', 'latin_american', 'non_white', 'white')}"
   ]
  },
  {
   "cell_type": "markdown",
   "metadata": {},
   "source": [
    "### 3.4.3. Comparing results"
   ]
  },
  {
   "cell_type": "markdown",
   "metadata": {},
   "source": [
    "The % of female and POC nominees is higher for gendered categories than for non-gendered categories:\n",
    "- 50.6% female nominees in gendered categories vs 16.2% female nominees in non-gendered categories.\n",
    "- 6.2% POP nominees in gendered categories vs 4.0% POC nominees in non-gendered categories. "
   ]
  },
  {
   "cell_type": "code",
   "execution_count": 58,
   "metadata": {},
   "outputs": [
    {
     "data": {
      "text/plain": [
       "{'winner': 20.251716247139587,\n",
       " 'female': 50.629290617848966,\n",
       " 'black': 4.4050343249427915,\n",
       " 'asian': 0.5148741418764302,\n",
       " 'latin_american': 1.3729977116704806,\n",
       " 'non_white': 6.2356979405034325,\n",
       " 'white': 93.76430205949656}"
      ]
     },
     "execution_count": 58,
     "metadata": {},
     "output_type": "execute_result"
    }
   ],
   "source": [
    "###### percentage of nominees by demographics for gendered categories\n",
    "mydict_gendered"
   ]
  },
  {
   "cell_type": "code",
   "execution_count": 59,
   "metadata": {
    "scrolled": false
   },
   "outputs": [
    {
     "data": {
      "text/plain": [
       "{'winner': 23.164103157164334,\n",
       " 'female': 16.236845148606452,\n",
       " 'black': 1.2721174973979414,\n",
       " 'asian': 1.4455880652249335,\n",
       " 'latin_american': 1.3183763154851393,\n",
       " 'non_white': 3.9666936509772177,\n",
       " 'white': 96.03330634902278}"
      ]
     },
     "execution_count": 59,
     "metadata": {},
     "output_type": "execute_result"
    }
   ],
   "source": [
    "# percentage of nominees by demographics for non-gendered categories\n",
    "mydict_not_gendered"
   ]
  },
  {
   "cell_type": "code",
   "execution_count": 88,
   "metadata": {},
   "outputs": [],
   "source": [
    "# dataframe with nominees by gendered and non_gendered categories\n",
    "\n",
    "nominees_cat = pd.DataFrame.from_dict(mydict_gendered, orient='index')\n",
    "nominees_cat['non_gendered'] = pd.DataFrame.from_dict(mydict_not_gendered, orient='index')\n",
    "nominees_cat.columns = ['gendered', 'non_gendered']\n",
    "nominees_cat.drop(['winner', 'white'], inplace=True)"
   ]
  },
  {
   "cell_type": "code",
   "execution_count": 91,
   "metadata": {},
   "outputs": [],
   "source": [
    "round(nominees_cat,2).to_csv('../project/data/nominees_by_categories.csv') # exporting csv"
   ]
  },
  {
   "cell_type": "code",
   "execution_count": 93,
   "metadata": {},
   "outputs": [
    {
     "data": {
      "text/html": [
       "<div>\n",
       "<style scoped>\n",
       "    .dataframe tbody tr th:only-of-type {\n",
       "        vertical-align: middle;\n",
       "    }\n",
       "\n",
       "    .dataframe tbody tr th {\n",
       "        vertical-align: top;\n",
       "    }\n",
       "\n",
       "    .dataframe thead th {\n",
       "        text-align: right;\n",
       "    }\n",
       "</style>\n",
       "<table border=\"1\" class=\"dataframe\">\n",
       "  <thead>\n",
       "    <tr style=\"text-align: right;\">\n",
       "      <th></th>\n",
       "      <th>gendered</th>\n",
       "      <th>non_gendered</th>\n",
       "    </tr>\n",
       "  </thead>\n",
       "  <tbody>\n",
       "    <tr>\n",
       "      <th>female</th>\n",
       "      <td>50.63</td>\n",
       "      <td>16.24</td>\n",
       "    </tr>\n",
       "    <tr>\n",
       "      <th>black</th>\n",
       "      <td>4.41</td>\n",
       "      <td>1.27</td>\n",
       "    </tr>\n",
       "    <tr>\n",
       "      <th>asian</th>\n",
       "      <td>0.51</td>\n",
       "      <td>1.45</td>\n",
       "    </tr>\n",
       "    <tr>\n",
       "      <th>latin_american</th>\n",
       "      <td>1.37</td>\n",
       "      <td>1.32</td>\n",
       "    </tr>\n",
       "    <tr>\n",
       "      <th>non_white</th>\n",
       "      <td>6.24</td>\n",
       "      <td>3.97</td>\n",
       "    </tr>\n",
       "  </tbody>\n",
       "</table>\n",
       "</div>"
      ],
      "text/plain": [
       "                gendered  non_gendered\n",
       "female             50.63         16.24\n",
       "black               4.41          1.27\n",
       "asian               0.51          1.45\n",
       "latin_american      1.37          1.32\n",
       "non_white           6.24          3.97"
      ]
     },
     "execution_count": 93,
     "metadata": {},
     "output_type": "execute_result"
    }
   ],
   "source": [
    "round(nominees_cat,2)"
   ]
  },
  {
   "cell_type": "code",
   "execution_count": null,
   "metadata": {},
   "outputs": [],
   "source": []
  }
 ],
 "metadata": {
  "kernelspec": {
   "display_name": "Python 3",
   "language": "python",
   "name": "python3"
  },
  "language_info": {
   "codemirror_mode": {
    "name": "ipython",
    "version": 3
   },
   "file_extension": ".py",
   "mimetype": "text/x-python",
   "name": "python",
   "nbconvert_exporter": "python",
   "pygments_lexer": "ipython3",
   "version": "3.8.4"
  }
 },
 "nbformat": 4,
 "nbformat_minor": 4
}
