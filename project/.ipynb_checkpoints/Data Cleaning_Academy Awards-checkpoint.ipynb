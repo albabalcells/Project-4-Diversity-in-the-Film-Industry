{
 "cells": [
  {
   "cell_type": "markdown",
   "metadata": {},
   "source": [
    "# Diversity in the film industry: data cleaning - Academy Awards"
   ]
  },
  {
   "cell_type": "markdown",
   "metadata": {},
   "source": [
    "## 1. Importing libraries and dataset"
   ]
  },
  {
   "cell_type": "markdown",
   "metadata": {},
   "source": [
    "The dataset *Nominees_raw* lists all Academy Awards nominees, with information on name, year, category, film and result."
   ]
  },
  {
   "cell_type": "code",
   "execution_count": 14,
   "metadata": {},
   "outputs": [],
   "source": [
    "import pandas as pd\n",
    "pd.set_option('display.max_columns', None)\n",
    "import numpy as np\n",
    "import re\n",
    "from itertools import chain"
   ]
  },
  {
   "cell_type": "code",
   "execution_count": 2,
   "metadata": {},
   "outputs": [],
   "source": [
    "# nominees until the year 2020\n",
    "nominees = pd.read_csv(\"./data/nominees_raw.csv\")\n",
    "nominees.rename(columns ={'Unnamed: 0': 'index'}, inplace= True)\n",
    "nominees_original = nominees.copy()"
   ]
  },
  {
   "cell_type": "markdown",
   "metadata": {},
   "source": [
    "## 2. Scrapping wikipedia"
   ]
  },
  {
   "cell_type": "markdown",
   "metadata": {},
   "source": [
    "The following wikipedia articles contain information on:\n",
    "- [All female nominees in the Academy Awards](https://en.wikipedia.org/wiki/List_of_female_Academy_Award_winners_and_nominees_for_non-gendered_categories) (Includes only nominees for non-gendered categories. That is, all categories except *actress*, *actress in a supporting role* and *actress in a leading role*)\n",
    "- [All black nominees in the Academy Awards](https://en.wikipedia.org/wiki/List_of_black_Academy_Award_winners_and_nominees)\n",
    "- [All asian nominees in the Academy Awards](https://en.wikipedia.org/wiki/List_of_Asian_Academy_Award_winners_and_nominees)\n",
    "- [All latin american nominees in the Academy Awards](https://en.wikipedia.org/wiki/List_of_Latin_American_Academy_Award_winners_and_nominees)\n",
    "- [All hispanic nominees in the Academy Awards](https://en.wikipedia.org/wiki/List_of_Hispanic_Academy_Award_winners_and_nominees) (People of Hispanic descent born outside of Latin America)\n",
    "\n",
    "By web scrapping the site I will obtained 4 lists containing the names of female, black, asian and latin american nominees.\n",
    "\n",
    "*Note: hispanic and latin american nominees are allocated in the same list*"
   ]
  },
  {
   "cell_type": "markdown",
   "metadata": {},
   "source": [
    "#### Creating the lists"
   ]
  },
  {
   "cell_type": "code",
   "execution_count": 6,
   "metadata": {},
   "outputs": [],
   "source": [
    "# defining function to web scrape all the pages\n",
    "    # The function returns a list with names, not cleaned\n",
    "\n",
    "def wikipedia(name, num_tables, url):\n",
    "    name = []\n",
    "    for i in range(num_tables):\n",
    "        df = pd.read_html(url, header=0)[i]\n",
    "        name.append(list(df.iloc[1:,1]))\n",
    "    return name"
   ]
  },
  {
   "cell_type": "code",
   "execution_count": 4,
   "metadata": {},
   "outputs": [],
   "source": [
    "# applying function\n",
    "\n",
    "female = wikipedia('female', 23, 'https://en.wikipedia.org/wiki/List_of_female_Academy_Award_winners_and_nominees_for_non-gendered_categories')\n",
    "black = wikipedia('black', 21, 'https://en.wikipedia.org/wiki/List_of_black_Academy_Award_winners_and_nominees')\n",
    "asian = wikipedia('asian', 24, 'https://en.wikipedia.org/wiki/List_of_Asian_Academy_Award_winners_and_nominees')\n",
    "    # hispanic people born outside the US \n",
    "latin_american = wikipedia('latin_american', 27, 'https://en.wikipedia.org/wiki/List_of_Latin_American_Academy_Award_winners_and_nominees')\n",
    "    # hispanic people born in the US \n",
    "latin_american_us = wikipedia('latin_american_us', 10, 'https://en.wikipedia.org/wiki/List_of_Hispanic_Academy_Award_winners_and_nominees')"
   ]
  },
  {
   "cell_type": "markdown",
   "metadata": {},
   "source": [
    "Each wikipedia page is composed of several tables. In all of them but 2 the name is in the second column. The following code removes the information appended to the list for these 2 tables and adds the correct items."
   ]
  },
  {
   "cell_type": "code",
   "execution_count": 8,
   "metadata": {},
   "outputs": [],
   "source": [
    "# table 23 of 'asian'\n",
    "\n",
    "    # delete values for that table\n",
    "del asian[23]\n",
    "\n",
    "    # get list with correct names\n",
    "url='https://en.wikipedia.org/wiki/List_of_Asian_Academy_Award_winners_and_nominees'\n",
    "asian1 = list(pd.read_html(url, header=0)[23].iloc[1:,3])    \n",
    "    \n",
    "    # append list to 'asian'\n",
    "asian.append(asian1)"
   ]
  },
  {
   "cell_type": "code",
   "execution_count": 9,
   "metadata": {
    "scrolled": true
   },
   "outputs": [],
   "source": [
    "# table 12 of 'latin_american'\n",
    "\n",
    "    # delete values for that table\n",
    "del latin_american[12]\n",
    "\n",
    "    # get list with correct names\n",
    "url='https://en.wikipedia.org/wiki/List_of_Latin_American_Academy_Award_winners_and_nominees'\n",
    "latin_american1 = list(pd.read_html(url, header=0)[12].iloc[1:,3])    \n",
    "    \n",
    "    # append list to 'latin_american'\n",
    "latin_american.append(latin_american1)"
   ]
  },
  {
   "cell_type": "code",
   "execution_count": 10,
   "metadata": {},
   "outputs": [],
   "source": [
    "# appending list of latin_american_us to latin_american\n",
    "latin_american = latin_american + latin_american_us"
   ]
  },
  {
   "cell_type": "code",
   "execution_count": 11,
   "metadata": {},
   "outputs": [],
   "source": [
    "# making copies of original lists\n",
    "female_original = female.copy()\n",
    "black_original = black.copy()\n",
    "asian_original = asian.copy()\n",
    "latin_american_original = latin_american.copy()"
   ]
  },
  {
   "cell_type": "markdown",
   "metadata": {},
   "source": [
    "#### Unnesting lists and making sets to remove duplicate names"
   ]
  },
  {
   "cell_type": "code",
   "execution_count": 15,
   "metadata": {},
   "outputs": [],
   "source": [
    "female = list(chain(*female))\n",
    "black = list(chain(*black))\n",
    "asian = list(chain(*asian))\n",
    "latin_american = list(chain(*latin_american))"
   ]
  },
  {
   "cell_type": "code",
   "execution_count": 16,
   "metadata": {},
   "outputs": [],
   "source": [
    "# female\n",
    "female = list(set(female))\n",
    "female.sort()\n",
    "female = female[1:]\n",
    "\n",
    "# black\n",
    "black = list(set(black))\n",
    "black = black[1:]\n",
    "\n",
    "# asian\n",
    "asian = list(set(asian))\n",
    "asian = asian[1:]\n",
    "\n",
    "# latin_american\n",
    "latin_american = list(set(latin_american))"
   ]
  },
  {
   "cell_type": "markdown",
   "metadata": {},
   "source": [
    "#### Cleaning lists"
   ]
  },
  {
   "cell_type": "markdown",
   "metadata": {},
   "source": [
    "Given the format of the wikipedia table, some values in the lists created were not accurate. To solve the issue, 2 steps have been followed:\n",
    "1. Splitting elements of the list where two names were appended together\n",
    "2. Remove every item with less than 3 letters"
   ]
  },
  {
   "cell_type": "markdown",
   "metadata": {},
   "source": [
    "*Splitting elements of the list where two names were appended together*\n",
    "\n"
   ]
  },
  {
   "cell_type": "code",
   "execution_count": 23,
   "metadata": {},
   "outputs": [],
   "source": [
    "# function to clean lists\n",
    "def clean_list(mylist):\n",
    "    for i in range(len(mylist)): \n",
    "        mylist[i] = re.sub(\"[\\(\\[].*?[\\)\\]]\", \"\", mylist[i])\n",
    "    \n",
    "    for i in range(len(mylist)):\n",
    "        if len(re.split(r'(?=[a-z][A-Z])', mylist[i])) == 2:\n",
    "            a, b = re.split(r'(?=[a-z][A-Z])', mylist[i])\n",
    "            mylist[i] = a+b[0]\n",
    "            mylist.append(b[1:])\n",
    "        elif len(re.split(r'(?=[a-z][A-Z])', mylist[i])) == 3:\n",
    "            a, b, c = re.split(r'(?=[a-z][A-Z])', mylist[i])\n",
    "            mylist[i] = a+b[0]\n",
    "            mylist.append(b[1:]+c[0])\n",
    "            mylist.append(c[1:])\n",
    "\n",
    "    for i in range(len(mylist)):\n",
    "        mylist[i] = mylist[i].strip()\n",
    "       \n",
    "    return mylist   "
   ]
  },
  {
   "cell_type": "code",
   "execution_count": 24,
   "metadata": {},
   "outputs": [],
   "source": [
    "# applying function to every lists\n",
    "\n",
    "female = clean_list(female)\n",
    "black = clean_list(black)\n",
    "asian = clean_list(asian)\n",
    "latin_american = clean_list(latin_american)"
   ]
  },
  {
   "cell_type": "markdown",
   "metadata": {},
   "source": [
    "*Remove every item with less than 3 letters*"
   ]
  },
  {
   "cell_type": "code",
   "execution_count": 25,
   "metadata": {},
   "outputs": [],
   "source": [
    "# female\n",
    "female = [i for i in female if len(i) > 2]"
   ]
  },
  {
   "cell_type": "code",
   "execution_count": 26,
   "metadata": {},
   "outputs": [],
   "source": [
    "# black\n",
    "black = [i for i in black if len(i) > 2]\n",
    "black.remove('Daniel')\n",
    "black.remove('SZAAnthony Tiffith')\n",
    "black.append('Anthony Tiffith')"
   ]
  },
  {
   "cell_type": "code",
   "execution_count": 27,
   "metadata": {},
   "outputs": [],
   "source": [
    "# asian\n",
    "asian = [i for i in asian if len(i) > 2]"
   ]
  },
  {
   "cell_type": "code",
   "execution_count": 28,
   "metadata": {},
   "outputs": [],
   "source": [
    "# latin_american\n",
    "latin_american = [i for i in latin_american if len(i) > 2]"
   ]
  },
  {
   "cell_type": "markdown",
   "metadata": {},
   "source": [
    "## 3. Merging lists with 'nominees' dataframe"
   ]
  },
  {
   "cell_type": "markdown",
   "metadata": {},
   "source": [
    "My goal is to add a new column in the dataframe for each demographic variable (female, black, asian, latin american). To do so, I will create a function that returns the indexes of the *nominees* dataframe where the name of the nominee is found in any of the previously created lists. After, I will add new columns that return 'True' for every index found in each demographic variable."
   ]
  },
  {
   "cell_type": "code",
   "execution_count": 17,
   "metadata": {},
   "outputs": [],
   "source": [
    "# defining function to get indexes of nominees who are female/black/asian/latin_american\n",
    "\n",
    "def checker(variable):\n",
    "    lst = []\n",
    "    for i in variable:\n",
    "        indexes = list(nominees.loc[nominees['name'].str.contains(i, case=True)].index)\n",
    "        if indexes != []:\n",
    "            lst.append(indexes)\n",
    "    lst = [l for i in lst for l in i]\n",
    "    return lst"
   ]
  },
  {
   "cell_type": "code",
   "execution_count": 18,
   "metadata": {
    "collapsed": true
   },
   "outputs": [
    {
     "name": "stderr",
     "output_type": "stream",
     "text": [
      "/usr/local/Cellar/jupyterlab/2.1.2/libexec/lib/python3.8/site-packages/pandas/core/strings.py:1954: UserWarning: This pattern has match groups. To actually get the groups, use str.extract.\n",
      "  return func(self, *args, **kwargs)\n"
     ]
    }
   ],
   "source": [
    "# applying function\n",
    "\n",
    "female_indexes = checker(female)\n",
    "black_indexes = checker(black)\n",
    "asian_indexes = checker(asian)\n",
    "latin_american_indexes = checker(latin_american)"
   ]
  },
  {
   "cell_type": "code",
   "execution_count": 19,
   "metadata": {},
   "outputs": [],
   "source": [
    "# creating new columns for each paramter, returning True for indexes in each list\n",
    "\n",
    "    # female\n",
    "def artists(row):\n",
    "    return row['index'] in female_indexes\n",
    "nominees['female'] = nominees.apply(artists, axis=1)\n",
    "\n",
    "    # black\n",
    "def artists(row):\n",
    "    return row['index'] in black_indexes\n",
    "nominees['black'] = nominees.apply(artists, axis=1)\n",
    "\n",
    "    # asian\n",
    "def artists(row):\n",
    "    return row['index'] in asian_indexes\n",
    "nominees['asian'] = nominees.apply(artists, axis=1)\n",
    "     \n",
    "    # latin_american\n",
    "def artists(row):\n",
    "    return row['index'] in latin_american_indexes\n",
    "nominees['latin_american'] = nominees.apply(artists, axis=1)\n"
   ]
  },
  {
   "cell_type": "markdown",
   "metadata": {},
   "source": [
    "#### Changing value of 'female' to 'True' for female categories\n",
    "Recall that the *female* list only contained the nominees for non-gendered categories. We thus need to change *female* to *True* for each female category."
   ]
  },
  {
   "cell_type": "code",
   "execution_count": 20,
   "metadata": {},
   "outputs": [],
   "source": [
    "# find gendered categories\n",
    "nominees.category.unique()\n",
    "gendered_cat_women = ['ACTRESS', 'ACTRESS IN A SUPPORTING ROLE', 'ACTRESS IN A LEADING ROLE']"
   ]
  },
  {
   "cell_type": "code",
   "execution_count": 22,
   "metadata": {
    "scrolled": false
   },
   "outputs": [],
   "source": [
    "# changing value of 'female' to 'True' for female categories\n",
    "for i in gendered_cat_women:\n",
    "    nominees.loc[nominees['category'] == i, 'female'] = True"
   ]
  },
  {
   "cell_type": "markdown",
   "metadata": {},
   "source": [
    "#### Adding 'non_white' column\n",
    "Add non_white column for future analysis"
   ]
  },
  {
   "cell_type": "code",
   "execution_count": 36,
   "metadata": {},
   "outputs": [],
   "source": [
    "def non_white(row):\n",
    "    if row['black'] == True or row['asian'] == True or row['latin_american'] == True:\n",
    "        return True\n",
    "    else:\n",
    "        return False\n",
    "\n",
    "nominees['non_white'] = nominees.apply(lambda row: non_white(row), axis=1)"
   ]
  },
  {
   "cell_type": "markdown",
   "metadata": {},
   "source": [
    "#### Adding 'gendered_cat' column"
   ]
  },
  {
   "cell_type": "markdown",
   "metadata": {},
   "source": [
    "Add a column that returns *True* for gendered categories and *False* for non-gendered categories. "
   ]
  },
  {
   "cell_type": "code",
   "execution_count": 23,
   "metadata": {},
   "outputs": [],
   "source": [
    "gendered_cat = ['ACTRESS', 'ACTRESS IN A SUPPORTING ROLE', 'ACTRESS IN A LEADING ROLE', 'ACTOR', 'ACTOR IN A SUPPORTING ROLE', 'ACTOR IN A LEADING ROLE']\n",
    "\n",
    "def gendered_categories(row):\n",
    "    return row['category'] in gendered_cat\n",
    "        \n",
    "nominees['gendered_cat'] = nominees.apply(lambda row: gendered_categories(row), axis=1)"
   ]
  },
  {
   "cell_type": "markdown",
   "metadata": {},
   "source": [
    "#### Removing first column (index)"
   ]
  },
  {
   "cell_type": "code",
   "execution_count": 24,
   "metadata": {},
   "outputs": [],
   "source": [
    "del nominees['index']"
   ]
  },
  {
   "cell_type": "markdown",
   "metadata": {},
   "source": [
    "#### Exporting clean dataset"
   ]
  },
  {
   "cell_type": "code",
   "execution_count": 43,
   "metadata": {},
   "outputs": [],
   "source": [
    "nominees.to_csv('./data/nominees_clean.csv')"
   ]
  }
 ],
 "metadata": {
  "kernelspec": {
   "display_name": "Python 3",
   "language": "python",
   "name": "python3"
  },
  "language_info": {
   "codemirror_mode": {
    "name": "ipython",
    "version": 3
   },
   "file_extension": ".py",
   "mimetype": "text/x-python",
   "name": "python",
   "nbconvert_exporter": "python",
   "pygments_lexer": "ipython3",
   "version": "3.8.4"
  }
 },
 "nbformat": 4,
 "nbformat_minor": 4
}
