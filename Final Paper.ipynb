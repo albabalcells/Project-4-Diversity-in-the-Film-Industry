{
 "cells": [
  {
   "cell_type": "markdown",
   "metadata": {},
   "source": [
    "# Diversity in the film industry\n",
    "## A look at the Academy Awards throughout history"
   ]
  },
  {
   "cell_type": "markdown",
   "metadata": {},
   "source": [
    "The Academy Awards –popularly known as The Oscars– capture the attention of media all over the world every year. In recent ceremonies a growing debate has been set on the lack of representation of women and people of color in the awards, with the hashtag #OscarsSoWhite flooding social media. This paper aims to analyze the gender and racial diversity in the film industry in the United States through an analysis of the awards. The first part of the project focuses on the demographics of the nominees and winners throughout history, while a second part looks at the dialogues of the films nominated for *Best Picture* in the years 1989, 2015 and 2017. "
   ]
  },
  {
   "cell_type": "markdown",
   "metadata": {},
   "source": [
    "__A look at the Academy Awards' nominees and winners throughout history__"
   ]
  },
  {
   "cell_type": "markdown",
   "metadata": {},
   "source": [
    "Since its first ceremony in 1929, a total of 10395 nominees have been called to the Academy Awards, out of which 2357 resulted in the winning place. It is of not surprise that in the early years the nominees were mostly white men. However, how is the representation nowadays? Is it representative of the demographics of the United States?\n",
    "\n",
    "Let's first look at the overall demographics of the nominees:"
   ]
  },
  {
   "attachments": {},
   "cell_type": "markdown",
   "metadata": {},
   "source": [
    "![nominees_all.png](project/visualizations/nominees_all.png)"
   ]
  },
  {
   "cell_type": "markdown",
   "metadata": {},
   "source": [
    "As expected, there is a clear dominance of men (78%) and white people (95.8%). Black people received 1.8% of nominations, hispanic people 1.3% and asians 1.2%. This seems to be changing over the years, with the rate of women and people of color nominees following an increasing trend.  "
   ]
  },
  {
   "attachments": {},
   "cell_type": "markdown",
   "metadata": {},
   "source": [
    "![nominees_all.png](project/visualizations/gender_nominees_time.png)"
   ]
  },
  {
   "attachments": {},
   "cell_type": "markdown",
   "metadata": {},
   "source": [
    "![nominees_all.png](project/visualizations/race_nominees_time.png)\n"
   ]
  },
  {
   "cell_type": "markdown",
   "metadata": {},
   "source": [
    "The horizontal lines in the graphs show the actual demographics of the United States as of July 1st, 2019. Even though the rates of nominees by demographics are approaching those of the country, it is still not an accurate representation: 2020 has been the year with the highest percentage of female nominees and, still, it is below 50%. As for people of color, in 2020 they received 11% of nominations, meanwhile they add up to 40% of the US population. If we look at the past decade, woman received 35% of nominations and POC 12%."
   ]
  },
  {
   "cell_type": "markdown",
   "metadata": {},
   "source": [
    "Furthermore, the categories of the Awards can be divided between *gendered* (e.g. actor/actress) and *non-gendered* (e.g. directing). 83,2% of nominations go to non-gendered categories and, if we look at those, the domination of white males is even higher. The table below shows the percentage of nominees by demographic in gendered vs non-gendered categories:\n",
    "\n"
   ]
  },
  {
   "attachments": {},
   "cell_type": "markdown",
   "metadata": {},
   "source": [
    "![nominees_all.png](project/visualizations/nominees_by_category.png)"
   ]
  },
  {
   "cell_type": "markdown",
   "metadata": {},
   "source": [
    "#### Analysis of movie scripts dialogues "
   ]
  },
  {
   "cell_type": "markdown",
   "metadata": {},
   "source": [
    "Having now a perspective on the diversity in the Academy Awards nominees, I was interested to see how this diversity was portraied in the films themselves. To achieve this, I analyzed the dialogue of the films nominated for *Best Picture* in the years 1989, 2015 and 2017, and counted the number of sentences for every character that spoke more than 100 words. \n",
    "\n",
    "Let's first look at the cast. The green line in the graph below shows the percetage of people of color casted in the film, while the orange line shows the percentage of women casted. Both seem to be increasing over the years, but, yet again, fail to be representative of the US population:"
   ]
  },
  {
   "attachments": {},
   "cell_type": "markdown",
   "metadata": {},
   "source": [
    "\n",
    "![nominees_all.png](project/visualizations/cast_by_year.png)"
   ]
  },
  {
   "cell_type": "markdown",
   "metadata": {},
   "source": [
    "As for the dialogues, in the majority of the films (18/22) men have larger speaking time than women, and in all of them white people speak more than people of color. Combining both factors show that females of color are the demographic group with less dialogue. What is more, there are 9 films where POC do not have any speaking role, and 13 where females of color don't:"
   ]
  },
  {
   "attachments": {},
   "cell_type": "markdown",
   "metadata": {},
   "source": [
    "![nominees_all.png](project/visualizations/script_female.png)"
   ]
  },
  {
   "attachments": {},
   "cell_type": "markdown",
   "metadata": {},
   "source": [
    "\n",
    "![nominees_all.png](project/visualizations/script_POC.png)"
   ]
  },
  {
   "attachments": {},
   "cell_type": "markdown",
   "metadata": {},
   "source": [
    "\n",
    "![nominees_all.png](project/visualizations/script_female_POC.png)"
   ]
  },
  {
   "cell_type": "markdown",
   "metadata": {},
   "source": [
    "Although the representation of women and people of color in film seems to be increasing over the years, it is still far away from being a real representation of society."
   ]
  }
 ],
 "metadata": {
  "kernelspec": {
   "display_name": "Python 3",
   "language": "python",
   "name": "python3"
  },
  "language_info": {
   "codemirror_mode": {
    "name": "ipython",
    "version": 3
   },
   "file_extension": ".py",
   "mimetype": "text/x-python",
   "name": "python",
   "nbconvert_exporter": "python",
   "pygments_lexer": "ipython3",
   "version": "3.8.4"
  }
 },
 "nbformat": 4,
 "nbformat_minor": 4
}
